{
 "cells": [
  {
   "cell_type": "code",
   "execution_count": null,
   "metadata": {},
   "outputs": [],
   "source": []
  },
  {
   "cell_type": "code",
   "execution_count": null,
   "metadata": {},
   "outputs": [],
   "source": []
  },
  {
   "cell_type": "markdown",
   "metadata": {},
   "source": [
    "Instructions on using script:\n",
    "\n",
    "Comes from here: https://huggingface.co/docs/diffusers/main/en/training/dreambooth#dreambooth\n",
    "\n",
    "Install latest dev diffuser repo (run this somewhere else for now)\n",
    "\n",
    "git clone https://github.com/huggingface/diffusers\n",
    "\n",
    "cd diffusers\n",
    "\n",
    "pip install .\n",
    "\n",
    "Go to dreambooth script location in repo:\n",
    "\n",
    "cd examples/dreambooth\n",
    "\n",
    "pip install -r requirements.txt\n",
    "\n",
    "Run accelerate config:\n",
    "\n",
    "accelerate config\n",
    "\n",
    "On Mac select: this machine, no distributed training, (NO if you have some GPU), No for dynamo, no mixed precision (I dont think this works for mac)\n",
    "\n",
    "\n",
    "This begins the training, you need to use your own directories. We should probably use a .env in the future. This is just using the default recommended parameters. You also need to download the pretrained model. There's instructions on how to do this in stable_diffusion_test.ipynb. Try to use a similar save location structure for the output_dir. None of these models can be pushed to github since they're like 5GB.\n",
    "\n",
    "accelerate launch train_dreambooth.py \\\n",
    "    --pretrained_model_name_or_path=\"/Users/grantrinehimer/Documents/cornell/sp25/cs5782/dreambooth_diffusion/pretrained_models/stable-diffusion-v1-5\" \\\n",
    "    --instance_data_dir=\"/Users/grantrinehimer/Documents/cornell/sp25/cs5782/dreambooth_diffusion/data/dog\" \\\n",
    "    --output_dir=\"/Users/grantrinehimer/Documents/cornell/sp25/cs5782/dreambooth_diffusion/results/models\" \\\n",
    "    --instance_prompt=\"a photo of sks dog\" \\\n",
    "    --resolution=512 \\\n",
    "    --train_batch_size=1 \\\n",
    "    --gradient_accumulation_steps=1 \\\n",
    "    --learning_rate=5e-6 \\\n",
    "    --lr_scheduler=\"constant\" \\\n",
    "    --lr_warmup_steps=0 \\\n",
    "    --max_train_steps=400"
   ]
  },
  {
   "cell_type": "markdown",
   "metadata": {},
   "source": []
  },
  {
   "cell_type": "code",
   "execution_count": null,
   "metadata": {},
   "outputs": [
    {
     "data": {
      "application/vnd.jupyter.widget-view+json": {
       "model_id": "671130e3a4e54e9cae95b7ae270c55dc",
       "version_major": 2,
       "version_minor": 0
      },
      "text/plain": [
       "Loading pipeline components...:   0%|          | 0/7 [00:00<?, ?it/s]"
      ]
     },
     "metadata": {},
     "output_type": "display_data"
    },
    {
     "data": {
      "application/vnd.jupyter.widget-view+json": {
       "model_id": "24ee333d10654559859364573c72c08d",
       "version_major": 2,
       "version_minor": 0
      },
      "text/plain": [
       "  0%|          | 0/50 [00:00<?, ?it/s]"
      ]
     },
     "metadata": {},
     "output_type": "display_data"
    }
   ],
   "source": [
    "# This is for inference on the new model after training\n",
    "from diffusers import StableDiffusionPipeline\n",
    "import torch\n",
    "\n",
    "# Path to your *local* fine-tuned model folder\n",
    "model_path = \"../results/models\"  # replace this\n",
    "\n",
    "# Load the pipeline\n",
    "pipe = StableDiffusionPipeline.from_pretrained(\n",
    "    model_path,\n",
    "    torch_dtype=torch.float32,   # or torch.float32 if you're using CPU\n",
    ").to(\"mps\")  # or .to(\"cpu\") if you don't have a GPU\n",
    "\n",
    "# Inference\n",
    "prompt = \"a photo of a sks dog in a bucket, 4k, high quality, realistic\"\n",
    "\n",
    "image = pipe(prompt).images[0]\n",
    "\n",
    "# Save or show the output\n",
    "image.save(\"output.png\")\n",
    "image.show()"
   ]
  },
  {
   "cell_type": "code",
   "execution_count": null,
   "metadata": {},
   "outputs": [],
   "source": []
  },
  {
   "cell_type": "code",
   "execution_count": null,
   "metadata": {},
   "outputs": [],
   "source": []
  }
 ],
 "metadata": {
  "kernelspec": {
   "display_name": "dreambooth",
   "language": "python",
   "name": "python3"
  },
  "language_info": {
   "codemirror_mode": {
    "name": "ipython",
    "version": 3
   },
   "file_extension": ".py",
   "mimetype": "text/x-python",
   "name": "python",
   "nbconvert_exporter": "python",
   "pygments_lexer": "ipython3",
   "version": "3.10.16"
  }
 },
 "nbformat": 4,
 "nbformat_minor": 2
}
