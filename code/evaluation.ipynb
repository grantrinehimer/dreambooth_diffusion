{
 "cells": [
  {
   "cell_type": "markdown",
   "id": "c56fa570",
   "metadata": {},
   "source": [
    "# Subject-Driven Generation Metrics Evaluation\n",
    "\n",
    "##### We have a dataset of 30 distinct “subjects” (objects vs. live subjects/pets), split into:\n",
    "##### - **Real images**: stored under `data/<subject_name>/…`\n",
    "##### - **Generated images**: stored under `results/{non-ppl,ppl}/<subject_name>/…`\n",
    "\n",
    "##### We also have:\n",
    "##### - `data/subjects.csv` with columns:\n",
    "#####     - `subject_name` (matches each folder name)\n",
    "#####    - `class`        (e.g. “dog”, “backpack”, etc.)\n",
    "#####     - `live`         (boolean: True for pets, False for objects)\n",
    "##### - `data/prompts.csv` with columns:\n",
    "#####     - `prompt` (templates containing `{0}` → “sks”, `{1}` → the `class` value)\n",
    "#####     - `live`   (boolean: whether this prompt applies to live subjects or objects)"
   ]
  },
  {
   "cell_type": "markdown",
   "id": "3cffae19",
   "metadata": {},
   "source": [
    "\n",
    "##### **Evaluation protocol**:\n",
    "##### - We generated up to **2** samples per prompt in `ppl` and also **2** for `non-ppl`.\n",
    "##### - Metrics:\n",
    "#####     1. **DINO** (avg pairwise DINO similarity between real↔ same subjects gen)\n",
    "#####     2. **PRES** (avg pairwise DINO similarity between real↔ other subjects gen)\n",
    "#####     3. **CLIP-I** (avg cosine between CLIP image embeddings real↔gen)\n",
    "#####     4. **CLIP-T** (avg cosine between CLIP text embeddings vs. gen images)\n",
    "#####     5. **DIV**  (avg pairwise LPIPS distance among gen images)\n"
   ]
  },
  {
   "cell_type": "code",
   "execution_count": null,
   "id": "3e02ab91",
   "metadata": {},
   "outputs": [],
   "source": [
    "import os\n",
    "import pandas as pd\n",
    "import numpy as np\n",
    "from collections import defaultdict\n",
    "from metrics import clip_embeddings, div, pres"
   ]
  },
  {
   "cell_type": "code",
   "execution_count": null,
   "id": "54fd1b26",
   "metadata": {},
   "outputs": [],
   "source": [
    "subjects_df = pd.read_csv('../data/subjects.csv')\n",
    "prompts_df  = pd.read_csv('../data/prompts.csv')\n",
    "\n",
    "REAL_ROOT  = '../data'\n",
    "GEN_ROOT  = '../results'\n",
    "CONDITIONS = ['no_ppl', 'ppl']"
   ]
  },
  {
   "cell_type": "markdown",
   "id": "2a16324d",
   "metadata": {},
   "source": [
    "#### Collecting DINO (between real and generated images)"
   ]
  },
  {
   "cell_type": "code",
   "execution_count": null,
   "id": "3a33833c",
   "metadata": {},
   "outputs": [],
   "source": [
    "dino_results = []\n",
    "for cond in CONDITIONS:\n",
    "    data_root = os.path.join(REAL_ROOT, \"subjects\")\n",
    "    res_root = os.path.join(GEN_ROOT, cond)\n",
    "    for _, row in subjects_df.iterrows():\n",
    "        subject = row['subject_name']\n",
    "        \n",
    "        real_dir = os.path.join(data_root, subject)\n",
    "        gen_dir  = os.path.join(res_root, subject)\n",
    "        if not os.path.isdir(real_dir) or not os.path.isdir(gen_dir):\n",
    "            continue \n",
    "\n",
    "        dino = pres.collect_pres(real_dir, gen_dir)\n",
    "\n",
    "        dino_results.append({\n",
    "                'condition': cond,\n",
    "                'subject':   subject,\n",
    "                'DINO':      dino,\n",
    "        })\n",
    "\n",
    "        print(f'{cond} {subject} {dino:.4f}')\n",
    "\n",
    "dino_results_df = pd.DataFrame(dino_results)\n",
    "dino_results_df.to_csv(\"../results/dino_results.csv\", index=False)"
   ]
  },
  {
   "cell_type": "code",
   "execution_count": null,
   "id": "9b3d6902",
   "metadata": {},
   "outputs": [],
   "source": [
    "mean_dino = (\n",
    "    dino_results_df\n",
    "    .groupby('condition')['DINO']\n",
    "    .mean()\n",
    "    .reset_index(name='mean_DINO')\n",
    ")\n",
    "mean_dino"
   ]
  },
  {
   "cell_type": "markdown",
   "id": "53c38830",
   "metadata": {},
   "source": [
    "#### Collecting PRES (between real and generated images)"
   ]
  },
  {
   "cell_type": "code",
   "execution_count": null,
   "id": "5e720440",
   "metadata": {},
   "outputs": [],
   "source": [
    "sub = subjects_df.to_dict(orient='records')\n",
    "\n",
    "counts = {}\n",
    "\n",
    "for s in sub:\n",
    "  c = s['class']\n",
    "  counts[c] = counts.get(c, 0) + 1\n",
    "\n",
    "mask = subjects_df['class'].map(counts) > 1\n",
    "\n",
    "pres_subjects_df = subjects_df[mask]"
   ]
  },
  {
   "cell_type": "code",
   "execution_count": null,
   "id": "661dd3a5",
   "metadata": {},
   "outputs": [],
   "source": [
    "results = []\n",
    "for cond in CONDITIONS:\n",
    "    data_root = os.path.join(REAL_ROOT, \"subjects\")\n",
    "    res_root = os.path.join(GEN_ROOT, cond)\n",
    "    for _, row in pres_subjects_df.iterrows():\n",
    "        subject = row['subject_name']\n",
    "        cls     = row['class']\n",
    "        other_subjects = pres_subjects_df.loc[\n",
    "            (pres_subjects_df['class'] == cls) &\n",
    "            (pres_subjects_df['subject_name'] != subject),\n",
    "            'subject_name'\n",
    "        ].tolist()\n",
    "\n",
    "        for x in other_subjects:\n",
    "            real_dir = os.path.join(data_root, subject)\n",
    "            gen_dir  = os.path.join(res_root, x)\n",
    "            if not os.path.isdir(real_dir) or not os.path.isdir(gen_dir):\n",
    "                continue \n",
    "\n",
    "            preservation   = pres.collect_pres(real_dir, gen_dir)\n",
    "\n",
    "            results.append({\n",
    "                'condition': cond,\n",
    "                'subject':   subject,\n",
    "                'PRES':      preservation,\n",
    "            })\n",
    "\n",
    "        print(f'{cond} {subject} {preservation:.4f}')\n",
    "\n",
    "pres_results_df = pd.DataFrame(results)\n",
    "pres_results_df.to_csv(\"../results/pres_results.csv\", index=False)"
   ]
  },
  {
   "cell_type": "code",
   "execution_count": null,
   "id": "19b53a5a",
   "metadata": {},
   "outputs": [],
   "source": [
    "\n",
    "mean_pres = (\n",
    "    pres_results_df\n",
    "    .groupby('condition')['PRES']\n",
    "    .mean()\n",
    "    .reset_index(name='mean_PRES')\n",
    ")\n",
    "mean_pres"
   ]
  },
  {
   "cell_type": "markdown",
   "id": "ec0505ce",
   "metadata": {},
   "source": [
    "#### Collecting CLIP-I, CLIP-T (between real and generated images)"
   ]
  },
  {
   "cell_type": "code",
   "execution_count": null,
   "id": "498b8fc9",
   "metadata": {},
   "outputs": [],
   "source": [
    "prompt_dir = \"../data/prompts.csv\"\n",
    "subject_dir = \"../data/subjects.csv\""
   ]
  },
  {
   "cell_type": "code",
   "execution_count": null,
   "id": "3101556e",
   "metadata": {},
   "outputs": [],
   "source": [
    "clip_results = []\n",
    "for cond in CONDITIONS:\n",
    "    data_root = os.path.join(REAL_ROOT, \"subjects\")\n",
    "    res_root = os.path.join(GEN_ROOT, cond)\n",
    "    for _, row in subjects_df.iterrows():\n",
    "        subject = row['subject_name']\n",
    "\n",
    "        real_dir = os.path.join(data_root, subject)\n",
    "        gen_dir  = os.path.join(res_root, subject)\n",
    "        if not os.path.isdir(real_dir) or not os.path.isdir(gen_dir):\n",
    "            continue \n",
    "\n",
    "        clip_i, clip_t = clip_embeddings.collect_clip_metrics(real_dir, gen_dir, prompt_dir)\n",
    "        print(f\"clip_i: {clip_i}, clip_t: {clip_t}\")\n",
    "\n",
    "        clip_results.append({\n",
    "            'condition': cond,\n",
    "            'subject':   subject,\n",
    "            'CLIP-I':    clip_i,\n",
    "            'CLIP-T':    clip_t\n",
    "        })\n",
    "\n",
    "        print(f'{cond} {subject} {clip_i:.4f} {clip_t:.4f}')\n",
    "\n",
    "clip_results_df = pd.DataFrame(clip_results)\n",
    "clip_results_df.to_csv(\"../results/clip_results.csv\", index=False)"
   ]
  },
  {
   "cell_type": "code",
   "execution_count": null,
   "id": "5baaf5bd",
   "metadata": {},
   "outputs": [],
   "source": [
    "mean_clip = (\n",
    "    clip_results_df\n",
    "    .groupby('condition', as_index=False)\n",
    "    .agg(\n",
    "        mean_CLIP_I = ('CLIP-I', 'mean'),\n",
    "        mean_CLIP_T = ('CLIP-T', 'mean'),\n",
    "    )\n",
    ")\n",
    "\n",
    "mean_clip"
   ]
  },
  {
   "cell_type": "markdown",
   "id": "1a90c4c6",
   "metadata": {},
   "source": [
    "#### Collecting DIV (between generated images of the same class)"
   ]
  },
  {
   "cell_type": "code",
   "execution_count": null,
   "id": "9027ed1a",
   "metadata": {},
   "outputs": [],
   "source": [
    "def split_prompts(gen_dir):\n",
    "    files = [f for f in os.listdir(gen_dir) if f.endswith('.png')]\n",
    "    groups = defaultdict(list)\n",
    "    for fn in files:\n",
    "        parts = fn.split('_')\n",
    "        p_idx = parts[0]\n",
    "        groups[p_idx].append(os.path.join(gen_dir, fn))\n",
    "\n",
    "    return groups"
   ]
  },
  {
   "cell_type": "code",
   "execution_count": null,
   "id": "c18b2be3",
   "metadata": {},
   "outputs": [],
   "source": [
    "def all_divs(groups):\n",
    "  prompt_divs = []\n",
    "  for p_idx, paths in groups.items():\n",
    "      if len(paths) < 2:\n",
    "          print(f\" only {len(paths)} sample(s) for prompt {p_idx}, skipping\")\n",
    "          continue            \n",
    "      div_value = div.collect_div(paths)\n",
    "      prompt_divs.append(div_value)\n",
    "      #print(f\"{cond}/{subject} prompt {p_idx}: DIV = {div_value:.4f}\")\n",
    "\n",
    "  return prompt_divs\n"
   ]
  },
  {
   "cell_type": "code",
   "execution_count": null,
   "id": "a3de82f1",
   "metadata": {},
   "outputs": [],
   "source": [
    "div_values = []\n",
    "for cond in CONDITIONS:\n",
    "    for _, row in subjects_df.iterrows():\n",
    "        subject = row['subject_name']\n",
    "        gen_dir = os.path.join(GEN_ROOT, cond, subject)\n",
    "        if not os.path.isdir(gen_dir):\n",
    "            print(f\"Skipping {cond}/{subject}: directory not found\")\n",
    "            continue\n",
    "\n",
    "        groups = split_prompts(gen_dir)    \n",
    "        prompt_divs = all_divs(groups)\n",
    "\n",
    "        if not prompt_divs:\n",
    "            print(f\"  No valid prompts for {cond}/{subject}, skipping\")\n",
    "            continue\n",
    "\n",
    "        subject_div = float(np.mean(prompt_divs))\n",
    "        div_values.append({\n",
    "            'condition': cond,\n",
    "            'subject':   subject,\n",
    "            'DIV':       subject_div\n",
    "        })\n",
    "\n",
    "\n",
    "div_df = pd.DataFrame(div_values)\n",
    "div_df.to_csv(\"../results/div_results.csv\", index=False)\n",
    "\n",
    "div_df"
   ]
  },
  {
   "cell_type": "code",
   "execution_count": null,
   "id": "c6c72683",
   "metadata": {},
   "outputs": [],
   "source": [
    "mean_div = (\n",
    "    div_df\n",
    "    .groupby('condition')['DIV']\n",
    "    .mean()\n",
    "    .reset_index(name='mean_DIV')\n",
    ")\n",
    "mean_div"
   ]
  },
  {
   "cell_type": "markdown",
   "id": "374c5a35",
   "metadata": {},
   "source": [
    "# ALL RESULTS PRINTED"
   ]
  },
  {
   "cell_type": "code",
   "execution_count": 22,
   "id": "0cff2c76",
   "metadata": {},
   "outputs": [],
   "source": [
    "import pandas as pd\n",
    "\n",
    "clip_results_df = pd.read_csv(\"../results/clip_results.csv\")\n",
    "dino_results_df = pd.read_csv(\"../results/dino_results.csv\")\n",
    "pres_results_df = pd.read_csv(\"../results/pres_results.csv\")\n",
    "div_results_df = pd.read_csv(\"../results/div_results.csv\")\n",
    "\n",
    "mean_dino = (\n",
    "    dino_results_df\n",
    "    .groupby('condition')['DINO']\n",
    "    .mean()\n",
    "    .reset_index(name='mean_DINO')\n",
    ")\n",
    "\n",
    "mean_pres = (\n",
    "    pres_results_df\n",
    "    .groupby('condition')['PRES']\n",
    "    .mean()\n",
    "    .reset_index(name='mean_PRES')\n",
    ")\n",
    "\n",
    "mean_clip = (\n",
    "    clip_results_df\n",
    "    .groupby('condition', as_index=False)\n",
    "    .agg(\n",
    "        mean_CLIP_I = ('CLIP-I', 'mean'),\n",
    "        mean_CLIP_T = ('CLIP-T', 'mean'),\n",
    "    )\n",
    ")\n",
    "mean_div = (\n",
    "    div_results_df\n",
    "    .groupby('condition')['DIV']\n",
    "    .mean()\n",
    "    .reset_index(name='mean_DIV')\n",
    ")\n",
    "\n",
    "mean_all = (\n",
    "    mean_pres\n",
    "    .merge(mean_div,  on='condition')\n",
    "    .merge(mean_dino, on='condition')\n",
    "    .merge(mean_clip,  on='condition')\n",
    ")\n",
    "\n",
    "mean_all.to_csv(\"../results/all_results.csv\", index=False)"
   ]
  }
 ],
 "metadata": {
  "kernelspec": {
   "display_name": "base",
   "language": "python",
   "name": "python3"
  },
  "language_info": {
   "codemirror_mode": {
    "name": "ipython",
    "version": 3
   },
   "file_extension": ".py",
   "mimetype": "text/x-python",
   "name": "python",
   "nbconvert_exporter": "python",
   "pygments_lexer": "ipython3",
   "version": "3.12.7"
  }
 },
 "nbformat": 4,
 "nbformat_minor": 5
}
