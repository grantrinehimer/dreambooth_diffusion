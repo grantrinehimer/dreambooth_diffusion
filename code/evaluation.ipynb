{
 "cells": [
  {
   "cell_type": "markdown",
   "id": "c56fa570",
   "metadata": {},
   "source": [
    "# Subject-Driven Generation Metrics Evaluation\n",
    "\n",
    "##### We have a dataset of 30 distinct “subjects” (objects vs. live subjects/pets), split into:\n",
    "##### - **Real images**: stored under `data/<subject_name>/…`\n",
    "##### - **Generated images**: stored under `results/{non-ppl,ppl}/<subject_name>/…`\n",
    "\n",
    "##### We also have:\n",
    "##### - `data/subjects.csv` with columns:\n",
    "#####     - `subject_name` (matches each folder name)\n",
    "#####    - `class`        (e.g. “dog”, “backpack”, etc.)\n",
    "#####     - `live`         (boolean: True for pets, False for objects)\n",
    "##### - `data/prompts.csv` with columns:\n",
    "#####     - `prompt` (templates containing `{0}` → “sks”, `{1}` → the `class` value)\n",
    "#####     - `live`   (boolean: whether this prompt applies to live subjects or objects)"
   ]
  },
  {
   "cell_type": "markdown",
   "id": "3cffae19",
   "metadata": {},
   "source": [
    "\n",
    "##### **Evaluation protocol**:\n",
    "##### - We generated up to **2** samples per prompt in `ppl` and also **2** for `non-ppl`.\n",
    "##### - Metrics:\n",
    "#####     1. **DINO** (avg pairwise DINO similarity between real↔ same subjects gen)\n",
    "#####     2. **PRES** (avg pairwise DINO similarity between real↔ other subjects gen)\n",
    "#####     3. **CLIP-I** (avg cosine between CLIP image embeddings real↔gen)\n",
    "#####     4. **CLIP-T** (avg cosine between CLIP text embeddings vs. gen images)\n",
    "#####     5. **DIV**  (avg pairwise LPIPS distance among gen images)\n"
   ]
  },
  {
   "cell_type": "code",
   "execution_count": 1,
   "id": "3e02ab91",
   "metadata": {},
   "outputs": [],
   "source": [
    "import os\n",
    "import pandas as pd\n",
    "import numpy as np\n",
    "from collections import defaultdict\n",
    "from metrics import clip_embeddings, div, pres"
   ]
  },
  {
   "cell_type": "code",
   "execution_count": 2,
   "id": "54fd1b26",
   "metadata": {},
   "outputs": [],
   "source": [
    "subjects_df = pd.read_csv('../data/subjects.csv')\n",
    "prompts_df  = pd.read_csv('../data/prompts.csv')\n",
    "\n",
    "REAL_ROOT  = '../data'\n",
    "GEN_ROOT  = '../results'\n",
    "CONDITIONS = ['no_ppl', 'ppl']"
   ]
  },
  {
   "cell_type": "markdown",
   "id": "2a16324d",
   "metadata": {},
   "source": [
    "#### Collecting DINO (between real and generated images)"
   ]
  },
  {
   "cell_type": "code",
   "execution_count": 6,
   "id": "3a33833c",
   "metadata": {},
   "outputs": [
    {
     "name": "stderr",
     "output_type": "stream",
     "text": [
      "Using cache found in /Users/ignazioperez/.cache/torch/hub/facebookresearch_dino_main\n"
     ]
    },
    {
     "name": "stdout",
     "output_type": "stream",
     "text": [
      "no_ppl backpack 0.6328\n"
     ]
    },
    {
     "name": "stderr",
     "output_type": "stream",
     "text": [
      "Using cache found in /Users/ignazioperez/.cache/torch/hub/facebookresearch_dino_main\n"
     ]
    },
    {
     "name": "stdout",
     "output_type": "stream",
     "text": [
      "no_ppl backpack_dog 0.6952\n"
     ]
    },
    {
     "name": "stderr",
     "output_type": "stream",
     "text": [
      "Using cache found in /Users/ignazioperez/.cache/torch/hub/facebookresearch_dino_main\n"
     ]
    },
    {
     "name": "stdout",
     "output_type": "stream",
     "text": [
      "no_ppl bear_plushie 0.8157\n"
     ]
    },
    {
     "name": "stderr",
     "output_type": "stream",
     "text": [
      "Using cache found in /Users/ignazioperez/.cache/torch/hub/facebookresearch_dino_main\n"
     ]
    },
    {
     "name": "stdout",
     "output_type": "stream",
     "text": [
      "no_ppl berry_bowl 0.6374\n"
     ]
    },
    {
     "name": "stderr",
     "output_type": "stream",
     "text": [
      "Using cache found in /Users/ignazioperez/.cache/torch/hub/facebookresearch_dino_main\n"
     ]
    },
    {
     "name": "stdout",
     "output_type": "stream",
     "text": [
      "no_ppl can 0.6469\n"
     ]
    },
    {
     "name": "stderr",
     "output_type": "stream",
     "text": [
      "Using cache found in /Users/ignazioperez/.cache/torch/hub/facebookresearch_dino_main\n"
     ]
    },
    {
     "name": "stdout",
     "output_type": "stream",
     "text": [
      "no_ppl candle 0.6265\n"
     ]
    },
    {
     "name": "stderr",
     "output_type": "stream",
     "text": [
      "Using cache found in /Users/ignazioperez/.cache/torch/hub/facebookresearch_dino_main\n"
     ]
    },
    {
     "name": "stdout",
     "output_type": "stream",
     "text": [
      "no_ppl cat 0.8191\n"
     ]
    },
    {
     "name": "stderr",
     "output_type": "stream",
     "text": [
      "Using cache found in /Users/ignazioperez/.cache/torch/hub/facebookresearch_dino_main\n"
     ]
    },
    {
     "name": "stdout",
     "output_type": "stream",
     "text": [
      "no_ppl cat2 0.7594\n"
     ]
    },
    {
     "name": "stderr",
     "output_type": "stream",
     "text": [
      "Using cache found in /Users/ignazioperez/.cache/torch/hub/facebookresearch_dino_main\n"
     ]
    },
    {
     "name": "stdout",
     "output_type": "stream",
     "text": [
      "no_ppl clock 0.5880\n"
     ]
    },
    {
     "name": "stderr",
     "output_type": "stream",
     "text": [
      "Using cache found in /Users/ignazioperez/.cache/torch/hub/facebookresearch_dino_main\n"
     ]
    },
    {
     "name": "stdout",
     "output_type": "stream",
     "text": [
      "no_ppl colorful_sneaker 0.8492\n"
     ]
    },
    {
     "name": "stderr",
     "output_type": "stream",
     "text": [
      "Using cache found in /Users/ignazioperez/.cache/torch/hub/facebookresearch_dino_main\n"
     ]
    },
    {
     "name": "stdout",
     "output_type": "stream",
     "text": [
      "no_ppl dog 0.7842\n"
     ]
    },
    {
     "name": "stderr",
     "output_type": "stream",
     "text": [
      "Using cache found in /Users/ignazioperez/.cache/torch/hub/facebookresearch_dino_main\n"
     ]
    },
    {
     "name": "stdout",
     "output_type": "stream",
     "text": [
      "no_ppl dog2 0.8136\n"
     ]
    },
    {
     "name": "stderr",
     "output_type": "stream",
     "text": [
      "Using cache found in /Users/ignazioperez/.cache/torch/hub/facebookresearch_dino_main\n"
     ]
    },
    {
     "name": "stdout",
     "output_type": "stream",
     "text": [
      "no_ppl dog3 0.6044\n"
     ]
    },
    {
     "name": "stderr",
     "output_type": "stream",
     "text": [
      "Using cache found in /Users/ignazioperez/.cache/torch/hub/facebookresearch_dino_main\n"
     ]
    },
    {
     "name": "stdout",
     "output_type": "stream",
     "text": [
      "no_ppl dog5 0.7488\n"
     ]
    },
    {
     "name": "stderr",
     "output_type": "stream",
     "text": [
      "Using cache found in /Users/ignazioperez/.cache/torch/hub/facebookresearch_dino_main\n"
     ]
    },
    {
     "name": "stdout",
     "output_type": "stream",
     "text": [
      "no_ppl dog6 0.7938\n"
     ]
    },
    {
     "name": "stderr",
     "output_type": "stream",
     "text": [
      "Using cache found in /Users/ignazioperez/.cache/torch/hub/facebookresearch_dino_main\n"
     ]
    },
    {
     "name": "stdout",
     "output_type": "stream",
     "text": [
      "no_ppl dog7 0.7045\n"
     ]
    },
    {
     "name": "stderr",
     "output_type": "stream",
     "text": [
      "Using cache found in /Users/ignazioperez/.cache/torch/hub/facebookresearch_dino_main\n"
     ]
    },
    {
     "name": "stdout",
     "output_type": "stream",
     "text": [
      "no_ppl dog8 0.7596\n"
     ]
    },
    {
     "name": "stderr",
     "output_type": "stream",
     "text": [
      "Using cache found in /Users/ignazioperez/.cache/torch/hub/facebookresearch_dino_main\n"
     ]
    },
    {
     "name": "stdout",
     "output_type": "stream",
     "text": [
      "no_ppl duck_toy 0.7295\n"
     ]
    },
    {
     "name": "stderr",
     "output_type": "stream",
     "text": [
      "Using cache found in /Users/ignazioperez/.cache/torch/hub/facebookresearch_dino_main\n"
     ]
    },
    {
     "name": "stdout",
     "output_type": "stream",
     "text": [
      "no_ppl fancy_boot 0.7509\n"
     ]
    },
    {
     "name": "stderr",
     "output_type": "stream",
     "text": [
      "Using cache found in /Users/ignazioperez/.cache/torch/hub/facebookresearch_dino_main\n"
     ]
    },
    {
     "name": "stdout",
     "output_type": "stream",
     "text": [
      "no_ppl grey_sloth_plushie 0.7829\n"
     ]
    },
    {
     "name": "stderr",
     "output_type": "stream",
     "text": [
      "Using cache found in /Users/ignazioperez/.cache/torch/hub/facebookresearch_dino_main\n"
     ]
    },
    {
     "name": "stdout",
     "output_type": "stream",
     "text": [
      "no_ppl monster_toy 0.4212\n"
     ]
    },
    {
     "name": "stderr",
     "output_type": "stream",
     "text": [
      "Using cache found in /Users/ignazioperez/.cache/torch/hub/facebookresearch_dino_main\n"
     ]
    },
    {
     "name": "stdout",
     "output_type": "stream",
     "text": [
      "no_ppl pink_sunglasses 0.6201\n"
     ]
    },
    {
     "name": "stderr",
     "output_type": "stream",
     "text": [
      "Using cache found in /Users/ignazioperez/.cache/torch/hub/facebookresearch_dino_main\n"
     ]
    },
    {
     "name": "stdout",
     "output_type": "stream",
     "text": [
      "no_ppl poop_emoji 0.6943\n"
     ]
    },
    {
     "name": "stderr",
     "output_type": "stream",
     "text": [
      "Using cache found in /Users/ignazioperez/.cache/torch/hub/facebookresearch_dino_main\n"
     ]
    },
    {
     "name": "stdout",
     "output_type": "stream",
     "text": [
      "no_ppl rc_car 0.6491\n"
     ]
    },
    {
     "name": "stderr",
     "output_type": "stream",
     "text": [
      "Using cache found in /Users/ignazioperez/.cache/torch/hub/facebookresearch_dino_main\n"
     ]
    },
    {
     "name": "stdout",
     "output_type": "stream",
     "text": [
      "no_ppl red_cartoon 0.5061\n"
     ]
    },
    {
     "name": "stderr",
     "output_type": "stream",
     "text": [
      "Using cache found in /Users/ignazioperez/.cache/torch/hub/facebookresearch_dino_main\n"
     ]
    },
    {
     "name": "stdout",
     "output_type": "stream",
     "text": [
      "no_ppl robot_toy 0.6106\n"
     ]
    },
    {
     "name": "stderr",
     "output_type": "stream",
     "text": [
      "Using cache found in /Users/ignazioperez/.cache/torch/hub/facebookresearch_dino_main\n"
     ]
    },
    {
     "name": "stdout",
     "output_type": "stream",
     "text": [
      "no_ppl shiny_sneaker 0.8460\n"
     ]
    },
    {
     "name": "stderr",
     "output_type": "stream",
     "text": [
      "Using cache found in /Users/ignazioperez/.cache/torch/hub/facebookresearch_dino_main\n"
     ]
    },
    {
     "name": "stdout",
     "output_type": "stream",
     "text": [
      "no_ppl teapot 0.5380\n"
     ]
    },
    {
     "name": "stderr",
     "output_type": "stream",
     "text": [
      "Using cache found in /Users/ignazioperez/.cache/torch/hub/facebookresearch_dino_main\n"
     ]
    },
    {
     "name": "stdout",
     "output_type": "stream",
     "text": [
      "no_ppl vase 0.6630\n"
     ]
    },
    {
     "name": "stderr",
     "output_type": "stream",
     "text": [
      "Using cache found in /Users/ignazioperez/.cache/torch/hub/facebookresearch_dino_main\n"
     ]
    },
    {
     "name": "stdout",
     "output_type": "stream",
     "text": [
      "no_ppl wolf_plushie 0.7098\n"
     ]
    },
    {
     "name": "stderr",
     "output_type": "stream",
     "text": [
      "Using cache found in /Users/ignazioperez/.cache/torch/hub/facebookresearch_dino_main\n"
     ]
    },
    {
     "name": "stdout",
     "output_type": "stream",
     "text": [
      "ppl backpack 0.5619\n"
     ]
    },
    {
     "name": "stderr",
     "output_type": "stream",
     "text": [
      "Using cache found in /Users/ignazioperez/.cache/torch/hub/facebookresearch_dino_main\n"
     ]
    },
    {
     "name": "stdout",
     "output_type": "stream",
     "text": [
      "ppl backpack_dog 0.3339\n"
     ]
    },
    {
     "name": "stderr",
     "output_type": "stream",
     "text": [
      "Using cache found in /Users/ignazioperez/.cache/torch/hub/facebookresearch_dino_main\n"
     ]
    },
    {
     "name": "stdout",
     "output_type": "stream",
     "text": [
      "ppl berry_bowl 0.3929\n"
     ]
    },
    {
     "name": "stderr",
     "output_type": "stream",
     "text": [
      "Using cache found in /Users/ignazioperez/.cache/torch/hub/facebookresearch_dino_main\n"
     ]
    },
    {
     "name": "stdout",
     "output_type": "stream",
     "text": [
      "ppl can 0.4984\n"
     ]
    },
    {
     "name": "stderr",
     "output_type": "stream",
     "text": [
      "Using cache found in /Users/ignazioperez/.cache/torch/hub/facebookresearch_dino_main\n"
     ]
    },
    {
     "name": "stdout",
     "output_type": "stream",
     "text": [
      "ppl candle 0.5955\n"
     ]
    },
    {
     "name": "stderr",
     "output_type": "stream",
     "text": [
      "Using cache found in /Users/ignazioperez/.cache/torch/hub/facebookresearch_dino_main\n"
     ]
    },
    {
     "name": "stdout",
     "output_type": "stream",
     "text": [
      "ppl cat 0.7126\n"
     ]
    },
    {
     "name": "stderr",
     "output_type": "stream",
     "text": [
      "Using cache found in /Users/ignazioperez/.cache/torch/hub/facebookresearch_dino_main\n"
     ]
    },
    {
     "name": "stdout",
     "output_type": "stream",
     "text": [
      "ppl cat2 0.6836\n"
     ]
    },
    {
     "name": "stderr",
     "output_type": "stream",
     "text": [
      "Using cache found in /Users/ignazioperez/.cache/torch/hub/facebookresearch_dino_main\n"
     ]
    },
    {
     "name": "stdout",
     "output_type": "stream",
     "text": [
      "ppl clock 0.4756\n"
     ]
    },
    {
     "name": "stderr",
     "output_type": "stream",
     "text": [
      "Using cache found in /Users/ignazioperez/.cache/torch/hub/facebookresearch_dino_main\n"
     ]
    },
    {
     "name": "stdout",
     "output_type": "stream",
     "text": [
      "ppl colorful_sneaker 0.7979\n"
     ]
    },
    {
     "name": "stderr",
     "output_type": "stream",
     "text": [
      "Using cache found in /Users/ignazioperez/.cache/torch/hub/facebookresearch_dino_main\n"
     ]
    },
    {
     "name": "stdout",
     "output_type": "stream",
     "text": [
      "ppl dog 0.6347\n"
     ]
    },
    {
     "name": "stderr",
     "output_type": "stream",
     "text": [
      "Using cache found in /Users/ignazioperez/.cache/torch/hub/facebookresearch_dino_main\n"
     ]
    },
    {
     "name": "stdout",
     "output_type": "stream",
     "text": [
      "ppl dog2 0.6262\n"
     ]
    },
    {
     "name": "stderr",
     "output_type": "stream",
     "text": [
      "Using cache found in /Users/ignazioperez/.cache/torch/hub/facebookresearch_dino_main\n"
     ]
    },
    {
     "name": "stdout",
     "output_type": "stream",
     "text": [
      "ppl dog3 0.3287\n"
     ]
    },
    {
     "name": "stderr",
     "output_type": "stream",
     "text": [
      "Using cache found in /Users/ignazioperez/.cache/torch/hub/facebookresearch_dino_main\n"
     ]
    },
    {
     "name": "stdout",
     "output_type": "stream",
     "text": [
      "ppl dog5 0.4744\n"
     ]
    },
    {
     "name": "stderr",
     "output_type": "stream",
     "text": [
      "Using cache found in /Users/ignazioperez/.cache/torch/hub/facebookresearch_dino_main\n"
     ]
    },
    {
     "name": "stdout",
     "output_type": "stream",
     "text": [
      "ppl dog6 0.5405\n"
     ]
    },
    {
     "name": "stderr",
     "output_type": "stream",
     "text": [
      "Using cache found in /Users/ignazioperez/.cache/torch/hub/facebookresearch_dino_main\n"
     ]
    },
    {
     "name": "stdout",
     "output_type": "stream",
     "text": [
      "ppl dog7 0.5150\n"
     ]
    },
    {
     "name": "stderr",
     "output_type": "stream",
     "text": [
      "Using cache found in /Users/ignazioperez/.cache/torch/hub/facebookresearch_dino_main\n"
     ]
    },
    {
     "name": "stdout",
     "output_type": "stream",
     "text": [
      "ppl dog8 0.5306\n"
     ]
    },
    {
     "name": "stderr",
     "output_type": "stream",
     "text": [
      "Using cache found in /Users/ignazioperez/.cache/torch/hub/facebookresearch_dino_main\n"
     ]
    },
    {
     "name": "stdout",
     "output_type": "stream",
     "text": [
      "ppl duck_toy 0.5707\n"
     ]
    },
    {
     "name": "stderr",
     "output_type": "stream",
     "text": [
      "Using cache found in /Users/ignazioperez/.cache/torch/hub/facebookresearch_dino_main\n"
     ]
    },
    {
     "name": "stdout",
     "output_type": "stream",
     "text": [
      "ppl fancy_boot 0.5439\n"
     ]
    },
    {
     "name": "stderr",
     "output_type": "stream",
     "text": [
      "Using cache found in /Users/ignazioperez/.cache/torch/hub/facebookresearch_dino_main\n"
     ]
    },
    {
     "name": "stdout",
     "output_type": "stream",
     "text": [
      "ppl grey_sloth_plushie 0.7507\n"
     ]
    },
    {
     "name": "stderr",
     "output_type": "stream",
     "text": [
      "Using cache found in /Users/ignazioperez/.cache/torch/hub/facebookresearch_dino_main\n"
     ]
    },
    {
     "name": "stdout",
     "output_type": "stream",
     "text": [
      "ppl monster_toy 0.3338\n"
     ]
    },
    {
     "name": "stderr",
     "output_type": "stream",
     "text": [
      "Using cache found in /Users/ignazioperez/.cache/torch/hub/facebookresearch_dino_main\n"
     ]
    },
    {
     "name": "stdout",
     "output_type": "stream",
     "text": [
      "ppl pink_sunglasses 0.5794\n"
     ]
    },
    {
     "name": "stderr",
     "output_type": "stream",
     "text": [
      "Using cache found in /Users/ignazioperez/.cache/torch/hub/facebookresearch_dino_main\n"
     ]
    },
    {
     "name": "stdout",
     "output_type": "stream",
     "text": [
      "ppl poop_emoji 0.6033\n"
     ]
    },
    {
     "name": "stderr",
     "output_type": "stream",
     "text": [
      "Using cache found in /Users/ignazioperez/.cache/torch/hub/facebookresearch_dino_main\n"
     ]
    },
    {
     "name": "stdout",
     "output_type": "stream",
     "text": [
      "ppl rc_car 0.5549\n"
     ]
    },
    {
     "name": "stderr",
     "output_type": "stream",
     "text": [
      "Using cache found in /Users/ignazioperez/.cache/torch/hub/facebookresearch_dino_main\n"
     ]
    },
    {
     "name": "stdout",
     "output_type": "stream",
     "text": [
      "ppl red_cartoon 0.4611\n"
     ]
    },
    {
     "name": "stderr",
     "output_type": "stream",
     "text": [
      "Using cache found in /Users/ignazioperez/.cache/torch/hub/facebookresearch_dino_main\n"
     ]
    },
    {
     "name": "stdout",
     "output_type": "stream",
     "text": [
      "ppl robot_toy 0.4658\n"
     ]
    },
    {
     "name": "stderr",
     "output_type": "stream",
     "text": [
      "Using cache found in /Users/ignazioperez/.cache/torch/hub/facebookresearch_dino_main\n"
     ]
    },
    {
     "name": "stdout",
     "output_type": "stream",
     "text": [
      "ppl shiny_sneaker 0.7962\n"
     ]
    },
    {
     "name": "stderr",
     "output_type": "stream",
     "text": [
      "Using cache found in /Users/ignazioperez/.cache/torch/hub/facebookresearch_dino_main\n"
     ]
    },
    {
     "name": "stdout",
     "output_type": "stream",
     "text": [
      "ppl teapot 0.5465\n"
     ]
    },
    {
     "name": "stderr",
     "output_type": "stream",
     "text": [
      "Using cache found in /Users/ignazioperez/.cache/torch/hub/facebookresearch_dino_main\n"
     ]
    },
    {
     "name": "stdout",
     "output_type": "stream",
     "text": [
      "ppl vase 0.6028\n"
     ]
    },
    {
     "name": "stderr",
     "output_type": "stream",
     "text": [
      "Using cache found in /Users/ignazioperez/.cache/torch/hub/facebookresearch_dino_main\n"
     ]
    },
    {
     "name": "stdout",
     "output_type": "stream",
     "text": [
      "ppl wolf_plushie 0.6121\n"
     ]
    }
   ],
   "source": [
    "dino_results = []\n",
    "for cond in CONDITIONS:\n",
    "    data_root = os.path.join(REAL_ROOT, \"subjects\")\n",
    "    res_root = os.path.join(GEN_ROOT, cond)\n",
    "    for _, row in subjects_df.iterrows():\n",
    "        subject = row['subject_name']\n",
    "        \n",
    "        real_dir = os.path.join(data_root, subject)\n",
    "        gen_dir  = os.path.join(res_root, subject)\n",
    "        if not os.path.isdir(real_dir) or not os.path.isdir(gen_dir):\n",
    "            continue \n",
    "\n",
    "        dino = pres.collect_pres(real_dir, gen_dir)\n",
    "\n",
    "        dino_results.append({\n",
    "                'condition': cond,\n",
    "                'subject':   subject,\n",
    "                'DINO':      dino,\n",
    "        })\n",
    "\n",
    "        print(f'{cond} {subject} {dino:.4f}')\n",
    "\n",
    "dino_results_df = pd.DataFrame(dino_results)\n",
    "dino_results_df.to_csv(\"../results/dino_results.csv\", index=False)"
   ]
  },
  {
   "cell_type": "code",
   "execution_count": 8,
   "id": "9b3d6902",
   "metadata": {},
   "outputs": [
    {
     "data": {
      "text/html": [
       "<div>\n",
       "<style scoped>\n",
       "    .dataframe tbody tr th:only-of-type {\n",
       "        vertical-align: middle;\n",
       "    }\n",
       "\n",
       "    .dataframe tbody tr th {\n",
       "        vertical-align: top;\n",
       "    }\n",
       "\n",
       "    .dataframe thead th {\n",
       "        text-align: right;\n",
       "    }\n",
       "</style>\n",
       "<table border=\"1\" class=\"dataframe\">\n",
       "  <thead>\n",
       "    <tr style=\"text-align: right;\">\n",
       "      <th></th>\n",
       "      <th>condition</th>\n",
       "      <th>mean_DINO</th>\n",
       "    </tr>\n",
       "  </thead>\n",
       "  <tbody>\n",
       "    <tr>\n",
       "      <th>0</th>\n",
       "      <td>no_ppl</td>\n",
       "      <td>0.693358</td>\n",
       "    </tr>\n",
       "    <tr>\n",
       "      <th>1</th>\n",
       "      <td>ppl</td>\n",
       "      <td>0.555984</td>\n",
       "    </tr>\n",
       "  </tbody>\n",
       "</table>\n",
       "</div>"
      ],
      "text/plain": [
       "  condition  mean_DINO\n",
       "0    no_ppl   0.693358\n",
       "1       ppl   0.555984"
      ]
     },
     "execution_count": 8,
     "metadata": {},
     "output_type": "execute_result"
    }
   ],
   "source": [
    "mean_dino = (\n",
    "    dino_results_df\n",
    "    .groupby('condition')['DINO']\n",
    "    .mean()\n",
    "    .reset_index(name='mean_DINO')\n",
    ")\n",
    "mean_dino"
   ]
  },
  {
   "cell_type": "markdown",
   "id": "53c38830",
   "metadata": {},
   "source": [
    "#### Collecting PRES (between real and generated images)"
   ]
  },
  {
   "cell_type": "code",
   "execution_count": 3,
   "id": "5e720440",
   "metadata": {},
   "outputs": [],
   "source": [
    "sub = subjects_df.to_dict(orient='records')\n",
    "\n",
    "counts = {}\n",
    "\n",
    "for s in sub:\n",
    "  c = s['class']\n",
    "  counts[c] = counts.get(c, 0) + 1\n",
    "\n",
    "mask = subjects_df['class'].map(counts) > 1\n",
    "\n",
    "pres_subjects_df = subjects_df[mask]"
   ]
  },
  {
   "cell_type": "code",
   "execution_count": 4,
   "id": "661dd3a5",
   "metadata": {},
   "outputs": [
    {
     "name": "stdout",
     "output_type": "stream",
     "text": [
      "subject: backpack, class: backpack\n",
      "other_subjects: ['backpack_dog']\n"
     ]
    },
    {
     "name": "stderr",
     "output_type": "stream",
     "text": [
      "Using cache found in /Users/ignazioperez/.cache/torch/hub/facebookresearch_dino_main\n"
     ]
    },
    {
     "name": "stdout",
     "output_type": "stream",
     "text": [
      "no_ppl backpack 0.3143\n",
      "subject: backpack_dog, class: backpack\n",
      "other_subjects: ['backpack']\n"
     ]
    },
    {
     "name": "stderr",
     "output_type": "stream",
     "text": [
      "Using cache found in /Users/ignazioperez/.cache/torch/hub/facebookresearch_dino_main\n"
     ]
    },
    {
     "name": "stdout",
     "output_type": "stream",
     "text": [
      "no_ppl backpack_dog 0.3748\n",
      "subject: bear_plushie, class: stuffed animal\n",
      "other_subjects: ['grey_sloth_plushie', 'wolf_plushie']\n"
     ]
    },
    {
     "name": "stderr",
     "output_type": "stream",
     "text": [
      "Using cache found in /Users/ignazioperez/.cache/torch/hub/facebookresearch_dino_main\n",
      "Using cache found in /Users/ignazioperez/.cache/torch/hub/facebookresearch_dino_main\n"
     ]
    },
    {
     "name": "stdout",
     "output_type": "stream",
     "text": [
      "no_ppl bear_plushie 0.5364\n",
      "subject: cat, class: cat\n",
      "other_subjects: ['cat2']\n"
     ]
    },
    {
     "name": "stderr",
     "output_type": "stream",
     "text": [
      "Using cache found in /Users/ignazioperez/.cache/torch/hub/facebookresearch_dino_main\n"
     ]
    },
    {
     "name": "stdout",
     "output_type": "stream",
     "text": [
      "no_ppl cat 0.6339\n",
      "subject: cat2, class: cat\n",
      "other_subjects: ['cat']\n"
     ]
    },
    {
     "name": "stderr",
     "output_type": "stream",
     "text": [
      "Using cache found in /Users/ignazioperez/.cache/torch/hub/facebookresearch_dino_main\n"
     ]
    },
    {
     "name": "stdout",
     "output_type": "stream",
     "text": [
      "no_ppl cat2 0.5751\n",
      "subject: colorful_sneaker, class: sneaker\n",
      "other_subjects: ['shiny_sneaker']\n"
     ]
    },
    {
     "name": "stderr",
     "output_type": "stream",
     "text": [
      "Using cache found in /Users/ignazioperez/.cache/torch/hub/facebookresearch_dino_main\n"
     ]
    },
    {
     "name": "stdout",
     "output_type": "stream",
     "text": [
      "no_ppl colorful_sneaker 0.7658\n",
      "subject: dog, class: dog\n",
      "other_subjects: ['dog2', 'dog3', 'dog5', 'dog6', 'dog7', 'dog8']\n"
     ]
    },
    {
     "name": "stderr",
     "output_type": "stream",
     "text": [
      "Using cache found in /Users/ignazioperez/.cache/torch/hub/facebookresearch_dino_main\n",
      "Using cache found in /Users/ignazioperez/.cache/torch/hub/facebookresearch_dino_main\n",
      "Using cache found in /Users/ignazioperez/.cache/torch/hub/facebookresearch_dino_main\n",
      "Using cache found in /Users/ignazioperez/.cache/torch/hub/facebookresearch_dino_main\n",
      "Using cache found in /Users/ignazioperez/.cache/torch/hub/facebookresearch_dino_main\n",
      "Using cache found in /Users/ignazioperez/.cache/torch/hub/facebookresearch_dino_main\n"
     ]
    },
    {
     "name": "stdout",
     "output_type": "stream",
     "text": [
      "no_ppl dog 0.4835\n",
      "subject: dog2, class: dog\n",
      "other_subjects: ['dog', 'dog3', 'dog5', 'dog6', 'dog7', 'dog8']\n"
     ]
    },
    {
     "name": "stderr",
     "output_type": "stream",
     "text": [
      "Using cache found in /Users/ignazioperez/.cache/torch/hub/facebookresearch_dino_main\n",
      "Using cache found in /Users/ignazioperez/.cache/torch/hub/facebookresearch_dino_main\n",
      "Using cache found in /Users/ignazioperez/.cache/torch/hub/facebookresearch_dino_main\n",
      "Using cache found in /Users/ignazioperez/.cache/torch/hub/facebookresearch_dino_main\n",
      "Using cache found in /Users/ignazioperez/.cache/torch/hub/facebookresearch_dino_main\n",
      "Using cache found in /Users/ignazioperez/.cache/torch/hub/facebookresearch_dino_main\n"
     ]
    },
    {
     "name": "stdout",
     "output_type": "stream",
     "text": [
      "no_ppl dog2 0.1666\n",
      "subject: dog3, class: dog\n",
      "other_subjects: ['dog', 'dog2', 'dog5', 'dog6', 'dog7', 'dog8']\n"
     ]
    },
    {
     "name": "stderr",
     "output_type": "stream",
     "text": [
      "Using cache found in /Users/ignazioperez/.cache/torch/hub/facebookresearch_dino_main\n",
      "Using cache found in /Users/ignazioperez/.cache/torch/hub/facebookresearch_dino_main\n",
      "Using cache found in /Users/ignazioperez/.cache/torch/hub/facebookresearch_dino_main\n",
      "Using cache found in /Users/ignazioperez/.cache/torch/hub/facebookresearch_dino_main\n",
      "Using cache found in /Users/ignazioperez/.cache/torch/hub/facebookresearch_dino_main\n",
      "Using cache found in /Users/ignazioperez/.cache/torch/hub/facebookresearch_dino_main\n"
     ]
    },
    {
     "name": "stdout",
     "output_type": "stream",
     "text": [
      "no_ppl dog3 0.0980\n",
      "subject: dog5, class: dog\n",
      "other_subjects: ['dog', 'dog2', 'dog3', 'dog6', 'dog7', 'dog8']\n"
     ]
    },
    {
     "name": "stderr",
     "output_type": "stream",
     "text": [
      "Using cache found in /Users/ignazioperez/.cache/torch/hub/facebookresearch_dino_main\n",
      "Using cache found in /Users/ignazioperez/.cache/torch/hub/facebookresearch_dino_main\n",
      "Using cache found in /Users/ignazioperez/.cache/torch/hub/facebookresearch_dino_main\n",
      "Using cache found in /Users/ignazioperez/.cache/torch/hub/facebookresearch_dino_main\n",
      "Using cache found in /Users/ignazioperez/.cache/torch/hub/facebookresearch_dino_main\n",
      "Using cache found in /Users/ignazioperez/.cache/torch/hub/facebookresearch_dino_main\n"
     ]
    },
    {
     "name": "stdout",
     "output_type": "stream",
     "text": [
      "no_ppl dog5 0.2382\n",
      "subject: dog6, class: dog\n",
      "other_subjects: ['dog', 'dog2', 'dog3', 'dog5', 'dog7', 'dog8']\n"
     ]
    },
    {
     "name": "stderr",
     "output_type": "stream",
     "text": [
      "Using cache found in /Users/ignazioperez/.cache/torch/hub/facebookresearch_dino_main\n",
      "Using cache found in /Users/ignazioperez/.cache/torch/hub/facebookresearch_dino_main\n",
      "Using cache found in /Users/ignazioperez/.cache/torch/hub/facebookresearch_dino_main\n",
      "Using cache found in /Users/ignazioperez/.cache/torch/hub/facebookresearch_dino_main\n",
      "Using cache found in /Users/ignazioperez/.cache/torch/hub/facebookresearch_dino_main\n",
      "Using cache found in /Users/ignazioperez/.cache/torch/hub/facebookresearch_dino_main\n"
     ]
    },
    {
     "name": "stdout",
     "output_type": "stream",
     "text": [
      "no_ppl dog6 0.3651\n",
      "subject: dog7, class: dog\n",
      "other_subjects: ['dog', 'dog2', 'dog3', 'dog5', 'dog6', 'dog8']\n"
     ]
    },
    {
     "name": "stderr",
     "output_type": "stream",
     "text": [
      "Using cache found in /Users/ignazioperez/.cache/torch/hub/facebookresearch_dino_main\n",
      "Using cache found in /Users/ignazioperez/.cache/torch/hub/facebookresearch_dino_main\n",
      "Using cache found in /Users/ignazioperez/.cache/torch/hub/facebookresearch_dino_main\n",
      "Using cache found in /Users/ignazioperez/.cache/torch/hub/facebookresearch_dino_main\n",
      "Using cache found in /Users/ignazioperez/.cache/torch/hub/facebookresearch_dino_main\n",
      "Using cache found in /Users/ignazioperez/.cache/torch/hub/facebookresearch_dino_main\n"
     ]
    },
    {
     "name": "stdout",
     "output_type": "stream",
     "text": [
      "no_ppl dog7 0.2371\n",
      "subject: dog8, class: dog\n",
      "other_subjects: ['dog', 'dog2', 'dog3', 'dog5', 'dog6', 'dog7']\n"
     ]
    },
    {
     "name": "stderr",
     "output_type": "stream",
     "text": [
      "Using cache found in /Users/ignazioperez/.cache/torch/hub/facebookresearch_dino_main\n",
      "Using cache found in /Users/ignazioperez/.cache/torch/hub/facebookresearch_dino_main\n",
      "Using cache found in /Users/ignazioperez/.cache/torch/hub/facebookresearch_dino_main\n",
      "Using cache found in /Users/ignazioperez/.cache/torch/hub/facebookresearch_dino_main\n",
      "Using cache found in /Users/ignazioperez/.cache/torch/hub/facebookresearch_dino_main\n",
      "Using cache found in /Users/ignazioperez/.cache/torch/hub/facebookresearch_dino_main\n"
     ]
    },
    {
     "name": "stdout",
     "output_type": "stream",
     "text": [
      "no_ppl dog8 0.2598\n",
      "subject: duck_toy, class: toy\n",
      "other_subjects: ['monster_toy', 'poop_emoji', 'rc_car', 'robot_toy']\n"
     ]
    },
    {
     "name": "stderr",
     "output_type": "stream",
     "text": [
      "Using cache found in /Users/ignazioperez/.cache/torch/hub/facebookresearch_dino_main\n",
      "Using cache found in /Users/ignazioperez/.cache/torch/hub/facebookresearch_dino_main\n",
      "Using cache found in /Users/ignazioperez/.cache/torch/hub/facebookresearch_dino_main\n",
      "Using cache found in /Users/ignazioperez/.cache/torch/hub/facebookresearch_dino_main\n"
     ]
    },
    {
     "name": "stdout",
     "output_type": "stream",
     "text": [
      "no_ppl duck_toy 0.3370\n",
      "subject: grey_sloth_plushie, class: stuffed animal\n",
      "other_subjects: ['bear_plushie', 'wolf_plushie']\n"
     ]
    },
    {
     "name": "stderr",
     "output_type": "stream",
     "text": [
      "Using cache found in /Users/ignazioperez/.cache/torch/hub/facebookresearch_dino_main\n",
      "Using cache found in /Users/ignazioperez/.cache/torch/hub/facebookresearch_dino_main\n"
     ]
    },
    {
     "name": "stdout",
     "output_type": "stream",
     "text": [
      "no_ppl grey_sloth_plushie 0.5306\n",
      "subject: monster_toy, class: toy\n",
      "other_subjects: ['duck_toy', 'poop_emoji', 'rc_car', 'robot_toy']\n"
     ]
    },
    {
     "name": "stderr",
     "output_type": "stream",
     "text": [
      "Using cache found in /Users/ignazioperez/.cache/torch/hub/facebookresearch_dino_main\n",
      "Using cache found in /Users/ignazioperez/.cache/torch/hub/facebookresearch_dino_main\n",
      "Using cache found in /Users/ignazioperez/.cache/torch/hub/facebookresearch_dino_main\n",
      "Using cache found in /Users/ignazioperez/.cache/torch/hub/facebookresearch_dino_main\n"
     ]
    },
    {
     "name": "stdout",
     "output_type": "stream",
     "text": [
      "no_ppl monster_toy 0.2167\n",
      "subject: poop_emoji, class: toy\n",
      "other_subjects: ['duck_toy', 'monster_toy', 'rc_car', 'robot_toy']\n"
     ]
    },
    {
     "name": "stderr",
     "output_type": "stream",
     "text": [
      "Using cache found in /Users/ignazioperez/.cache/torch/hub/facebookresearch_dino_main\n",
      "Using cache found in /Users/ignazioperez/.cache/torch/hub/facebookresearch_dino_main\n",
      "Using cache found in /Users/ignazioperez/.cache/torch/hub/facebookresearch_dino_main\n",
      "Using cache found in /Users/ignazioperez/.cache/torch/hub/facebookresearch_dino_main\n"
     ]
    },
    {
     "name": "stdout",
     "output_type": "stream",
     "text": [
      "no_ppl poop_emoji 0.3610\n",
      "subject: rc_car, class: toy\n",
      "other_subjects: ['duck_toy', 'monster_toy', 'poop_emoji', 'robot_toy']\n"
     ]
    },
    {
     "name": "stderr",
     "output_type": "stream",
     "text": [
      "Using cache found in /Users/ignazioperez/.cache/torch/hub/facebookresearch_dino_main\n",
      "Using cache found in /Users/ignazioperez/.cache/torch/hub/facebookresearch_dino_main\n",
      "Using cache found in /Users/ignazioperez/.cache/torch/hub/facebookresearch_dino_main\n",
      "Using cache found in /Users/ignazioperez/.cache/torch/hub/facebookresearch_dino_main\n"
     ]
    },
    {
     "name": "stdout",
     "output_type": "stream",
     "text": [
      "no_ppl rc_car 0.4236\n",
      "subject: robot_toy, class: toy\n",
      "other_subjects: ['duck_toy', 'monster_toy', 'poop_emoji', 'rc_car']\n"
     ]
    },
    {
     "name": "stderr",
     "output_type": "stream",
     "text": [
      "Using cache found in /Users/ignazioperez/.cache/torch/hub/facebookresearch_dino_main\n",
      "Using cache found in /Users/ignazioperez/.cache/torch/hub/facebookresearch_dino_main\n",
      "Using cache found in /Users/ignazioperez/.cache/torch/hub/facebookresearch_dino_main\n",
      "Using cache found in /Users/ignazioperez/.cache/torch/hub/facebookresearch_dino_main\n"
     ]
    },
    {
     "name": "stdout",
     "output_type": "stream",
     "text": [
      "no_ppl robot_toy 0.3646\n",
      "subject: shiny_sneaker, class: sneaker\n",
      "other_subjects: ['colorful_sneaker']\n"
     ]
    },
    {
     "name": "stderr",
     "output_type": "stream",
     "text": [
      "Using cache found in /Users/ignazioperez/.cache/torch/hub/facebookresearch_dino_main\n"
     ]
    },
    {
     "name": "stdout",
     "output_type": "stream",
     "text": [
      "no_ppl shiny_sneaker 0.7683\n",
      "subject: wolf_plushie, class: stuffed animal\n",
      "other_subjects: ['bear_plushie', 'grey_sloth_plushie']\n"
     ]
    },
    {
     "name": "stderr",
     "output_type": "stream",
     "text": [
      "Using cache found in /Users/ignazioperez/.cache/torch/hub/facebookresearch_dino_main\n",
      "Using cache found in /Users/ignazioperez/.cache/torch/hub/facebookresearch_dino_main\n"
     ]
    },
    {
     "name": "stdout",
     "output_type": "stream",
     "text": [
      "no_ppl wolf_plushie 0.4518\n",
      "subject: backpack, class: backpack\n",
      "other_subjects: ['backpack_dog']\n"
     ]
    },
    {
     "name": "stderr",
     "output_type": "stream",
     "text": [
      "Using cache found in /Users/ignazioperez/.cache/torch/hub/facebookresearch_dino_main\n"
     ]
    },
    {
     "name": "stdout",
     "output_type": "stream",
     "text": [
      "ppl backpack 0.2059\n",
      "subject: backpack_dog, class: backpack\n",
      "other_subjects: ['backpack']\n"
     ]
    },
    {
     "name": "stderr",
     "output_type": "stream",
     "text": [
      "Using cache found in /Users/ignazioperez/.cache/torch/hub/facebookresearch_dino_main\n"
     ]
    },
    {
     "name": "stdout",
     "output_type": "stream",
     "text": [
      "ppl backpack_dog 0.3393\n",
      "subject: bear_plushie, class: stuffed animal\n",
      "other_subjects: ['grey_sloth_plushie', 'wolf_plushie']\n"
     ]
    },
    {
     "name": "stderr",
     "output_type": "stream",
     "text": [
      "Using cache found in /Users/ignazioperez/.cache/torch/hub/facebookresearch_dino_main\n",
      "Using cache found in /Users/ignazioperez/.cache/torch/hub/facebookresearch_dino_main\n"
     ]
    },
    {
     "name": "stdout",
     "output_type": "stream",
     "text": [
      "ppl bear_plushie 0.5141\n",
      "subject: cat, class: cat\n",
      "other_subjects: ['cat2']\n"
     ]
    },
    {
     "name": "stderr",
     "output_type": "stream",
     "text": [
      "Using cache found in /Users/ignazioperez/.cache/torch/hub/facebookresearch_dino_main\n"
     ]
    },
    {
     "name": "stdout",
     "output_type": "stream",
     "text": [
      "ppl cat 0.6328\n",
      "subject: cat2, class: cat\n",
      "other_subjects: ['cat']\n"
     ]
    },
    {
     "name": "stderr",
     "output_type": "stream",
     "text": [
      "Using cache found in /Users/ignazioperez/.cache/torch/hub/facebookresearch_dino_main\n"
     ]
    },
    {
     "name": "stdout",
     "output_type": "stream",
     "text": [
      "ppl cat2 0.5635\n",
      "subject: colorful_sneaker, class: sneaker\n",
      "other_subjects: ['shiny_sneaker']\n"
     ]
    },
    {
     "name": "stderr",
     "output_type": "stream",
     "text": [
      "Using cache found in /Users/ignazioperez/.cache/torch/hub/facebookresearch_dino_main\n"
     ]
    },
    {
     "name": "stdout",
     "output_type": "stream",
     "text": [
      "ppl colorful_sneaker 0.7215\n",
      "subject: dog, class: dog\n",
      "other_subjects: ['dog2', 'dog3', 'dog5', 'dog6', 'dog7', 'dog8']\n"
     ]
    },
    {
     "name": "stderr",
     "output_type": "stream",
     "text": [
      "Using cache found in /Users/ignazioperez/.cache/torch/hub/facebookresearch_dino_main\n",
      "Using cache found in /Users/ignazioperez/.cache/torch/hub/facebookresearch_dino_main\n",
      "Using cache found in /Users/ignazioperez/.cache/torch/hub/facebookresearch_dino_main\n",
      "Using cache found in /Users/ignazioperez/.cache/torch/hub/facebookresearch_dino_main\n",
      "Using cache found in /Users/ignazioperez/.cache/torch/hub/facebookresearch_dino_main\n",
      "Using cache found in /Users/ignazioperez/.cache/torch/hub/facebookresearch_dino_main\n"
     ]
    },
    {
     "name": "stdout",
     "output_type": "stream",
     "text": [
      "ppl dog 0.4126\n",
      "subject: dog2, class: dog\n",
      "other_subjects: ['dog', 'dog3', 'dog5', 'dog6', 'dog7', 'dog8']\n"
     ]
    },
    {
     "name": "stderr",
     "output_type": "stream",
     "text": [
      "Using cache found in /Users/ignazioperez/.cache/torch/hub/facebookresearch_dino_main\n",
      "Using cache found in /Users/ignazioperez/.cache/torch/hub/facebookresearch_dino_main\n",
      "Using cache found in /Users/ignazioperez/.cache/torch/hub/facebookresearch_dino_main\n",
      "Using cache found in /Users/ignazioperez/.cache/torch/hub/facebookresearch_dino_main\n",
      "Using cache found in /Users/ignazioperez/.cache/torch/hub/facebookresearch_dino_main\n",
      "Using cache found in /Users/ignazioperez/.cache/torch/hub/facebookresearch_dino_main\n"
     ]
    },
    {
     "name": "stdout",
     "output_type": "stream",
     "text": [
      "ppl dog2 0.1754\n",
      "subject: dog3, class: dog\n",
      "other_subjects: ['dog', 'dog2', 'dog5', 'dog6', 'dog7', 'dog8']\n"
     ]
    },
    {
     "name": "stderr",
     "output_type": "stream",
     "text": [
      "Using cache found in /Users/ignazioperez/.cache/torch/hub/facebookresearch_dino_main\n",
      "Using cache found in /Users/ignazioperez/.cache/torch/hub/facebookresearch_dino_main\n",
      "Using cache found in /Users/ignazioperez/.cache/torch/hub/facebookresearch_dino_main\n",
      "Using cache found in /Users/ignazioperez/.cache/torch/hub/facebookresearch_dino_main\n",
      "Using cache found in /Users/ignazioperez/.cache/torch/hub/facebookresearch_dino_main\n",
      "Using cache found in /Users/ignazioperez/.cache/torch/hub/facebookresearch_dino_main\n"
     ]
    },
    {
     "name": "stdout",
     "output_type": "stream",
     "text": [
      "ppl dog3 0.0990\n",
      "subject: dog5, class: dog\n",
      "other_subjects: ['dog', 'dog2', 'dog3', 'dog6', 'dog7', 'dog8']\n"
     ]
    },
    {
     "name": "stderr",
     "output_type": "stream",
     "text": [
      "Using cache found in /Users/ignazioperez/.cache/torch/hub/facebookresearch_dino_main\n",
      "Using cache found in /Users/ignazioperez/.cache/torch/hub/facebookresearch_dino_main\n",
      "Using cache found in /Users/ignazioperez/.cache/torch/hub/facebookresearch_dino_main\n",
      "Using cache found in /Users/ignazioperez/.cache/torch/hub/facebookresearch_dino_main\n",
      "Using cache found in /Users/ignazioperez/.cache/torch/hub/facebookresearch_dino_main\n",
      "Using cache found in /Users/ignazioperez/.cache/torch/hub/facebookresearch_dino_main\n"
     ]
    },
    {
     "name": "stdout",
     "output_type": "stream",
     "text": [
      "ppl dog5 0.1884\n",
      "subject: dog6, class: dog\n",
      "other_subjects: ['dog', 'dog2', 'dog3', 'dog5', 'dog7', 'dog8']\n"
     ]
    },
    {
     "name": "stderr",
     "output_type": "stream",
     "text": [
      "Using cache found in /Users/ignazioperez/.cache/torch/hub/facebookresearch_dino_main\n",
      "Using cache found in /Users/ignazioperez/.cache/torch/hub/facebookresearch_dino_main\n",
      "Using cache found in /Users/ignazioperez/.cache/torch/hub/facebookresearch_dino_main\n",
      "Using cache found in /Users/ignazioperez/.cache/torch/hub/facebookresearch_dino_main\n",
      "Using cache found in /Users/ignazioperez/.cache/torch/hub/facebookresearch_dino_main\n",
      "Using cache found in /Users/ignazioperez/.cache/torch/hub/facebookresearch_dino_main\n"
     ]
    },
    {
     "name": "stdout",
     "output_type": "stream",
     "text": [
      "ppl dog6 0.3485\n",
      "subject: dog7, class: dog\n",
      "other_subjects: ['dog', 'dog2', 'dog3', 'dog5', 'dog6', 'dog8']\n"
     ]
    },
    {
     "name": "stderr",
     "output_type": "stream",
     "text": [
      "Using cache found in /Users/ignazioperez/.cache/torch/hub/facebookresearch_dino_main\n",
      "Using cache found in /Users/ignazioperez/.cache/torch/hub/facebookresearch_dino_main\n",
      "Using cache found in /Users/ignazioperez/.cache/torch/hub/facebookresearch_dino_main\n",
      "Using cache found in /Users/ignazioperez/.cache/torch/hub/facebookresearch_dino_main\n",
      "Using cache found in /Users/ignazioperez/.cache/torch/hub/facebookresearch_dino_main\n",
      "Using cache found in /Users/ignazioperez/.cache/torch/hub/facebookresearch_dino_main\n"
     ]
    },
    {
     "name": "stdout",
     "output_type": "stream",
     "text": [
      "ppl dog7 0.2132\n",
      "subject: dog8, class: dog\n",
      "other_subjects: ['dog', 'dog2', 'dog3', 'dog5', 'dog6', 'dog7']\n"
     ]
    },
    {
     "name": "stderr",
     "output_type": "stream",
     "text": [
      "Using cache found in /Users/ignazioperez/.cache/torch/hub/facebookresearch_dino_main\n",
      "Using cache found in /Users/ignazioperez/.cache/torch/hub/facebookresearch_dino_main\n",
      "Using cache found in /Users/ignazioperez/.cache/torch/hub/facebookresearch_dino_main\n",
      "Using cache found in /Users/ignazioperez/.cache/torch/hub/facebookresearch_dino_main\n",
      "Using cache found in /Users/ignazioperez/.cache/torch/hub/facebookresearch_dino_main\n",
      "Using cache found in /Users/ignazioperez/.cache/torch/hub/facebookresearch_dino_main\n"
     ]
    },
    {
     "name": "stdout",
     "output_type": "stream",
     "text": [
      "ppl dog8 0.1829\n",
      "subject: duck_toy, class: toy\n",
      "other_subjects: ['monster_toy', 'poop_emoji', 'rc_car', 'robot_toy']\n"
     ]
    },
    {
     "name": "stderr",
     "output_type": "stream",
     "text": [
      "Using cache found in /Users/ignazioperez/.cache/torch/hub/facebookresearch_dino_main\n",
      "Using cache found in /Users/ignazioperez/.cache/torch/hub/facebookresearch_dino_main\n",
      "Using cache found in /Users/ignazioperez/.cache/torch/hub/facebookresearch_dino_main\n",
      "Using cache found in /Users/ignazioperez/.cache/torch/hub/facebookresearch_dino_main\n"
     ]
    },
    {
     "name": "stdout",
     "output_type": "stream",
     "text": [
      "ppl duck_toy 0.2933\n",
      "subject: grey_sloth_plushie, class: stuffed animal\n",
      "other_subjects: ['bear_plushie', 'wolf_plushie']\n"
     ]
    },
    {
     "name": "stderr",
     "output_type": "stream",
     "text": [
      "Using cache found in /Users/ignazioperez/.cache/torch/hub/facebookresearch_dino_main\n"
     ]
    },
    {
     "name": "stdout",
     "output_type": "stream",
     "text": [
      "ppl grey_sloth_plushie 0.5106\n",
      "subject: monster_toy, class: toy\n",
      "other_subjects: ['duck_toy', 'poop_emoji', 'rc_car', 'robot_toy']\n"
     ]
    },
    {
     "name": "stderr",
     "output_type": "stream",
     "text": [
      "Using cache found in /Users/ignazioperez/.cache/torch/hub/facebookresearch_dino_main\n",
      "Using cache found in /Users/ignazioperez/.cache/torch/hub/facebookresearch_dino_main\n",
      "Using cache found in /Users/ignazioperez/.cache/torch/hub/facebookresearch_dino_main\n",
      "Using cache found in /Users/ignazioperez/.cache/torch/hub/facebookresearch_dino_main\n"
     ]
    },
    {
     "name": "stdout",
     "output_type": "stream",
     "text": [
      "ppl monster_toy 0.1914\n",
      "subject: poop_emoji, class: toy\n",
      "other_subjects: ['duck_toy', 'monster_toy', 'rc_car', 'robot_toy']\n"
     ]
    },
    {
     "name": "stderr",
     "output_type": "stream",
     "text": [
      "Using cache found in /Users/ignazioperez/.cache/torch/hub/facebookresearch_dino_main\n",
      "Using cache found in /Users/ignazioperez/.cache/torch/hub/facebookresearch_dino_main\n",
      "Using cache found in /Users/ignazioperez/.cache/torch/hub/facebookresearch_dino_main\n",
      "Using cache found in /Users/ignazioperez/.cache/torch/hub/facebookresearch_dino_main\n"
     ]
    },
    {
     "name": "stdout",
     "output_type": "stream",
     "text": [
      "ppl poop_emoji 0.3096\n",
      "subject: rc_car, class: toy\n",
      "other_subjects: ['duck_toy', 'monster_toy', 'poop_emoji', 'robot_toy']\n"
     ]
    },
    {
     "name": "stderr",
     "output_type": "stream",
     "text": [
      "Using cache found in /Users/ignazioperez/.cache/torch/hub/facebookresearch_dino_main\n",
      "Using cache found in /Users/ignazioperez/.cache/torch/hub/facebookresearch_dino_main\n",
      "Using cache found in /Users/ignazioperez/.cache/torch/hub/facebookresearch_dino_main\n",
      "Using cache found in /Users/ignazioperez/.cache/torch/hub/facebookresearch_dino_main\n"
     ]
    },
    {
     "name": "stdout",
     "output_type": "stream",
     "text": [
      "ppl rc_car 0.3514\n",
      "subject: robot_toy, class: toy\n",
      "other_subjects: ['duck_toy', 'monster_toy', 'poop_emoji', 'rc_car']\n"
     ]
    },
    {
     "name": "stderr",
     "output_type": "stream",
     "text": [
      "Using cache found in /Users/ignazioperez/.cache/torch/hub/facebookresearch_dino_main\n",
      "Using cache found in /Users/ignazioperez/.cache/torch/hub/facebookresearch_dino_main\n",
      "Using cache found in /Users/ignazioperez/.cache/torch/hub/facebookresearch_dino_main\n",
      "Using cache found in /Users/ignazioperez/.cache/torch/hub/facebookresearch_dino_main\n"
     ]
    },
    {
     "name": "stdout",
     "output_type": "stream",
     "text": [
      "ppl robot_toy 0.3144\n",
      "subject: shiny_sneaker, class: sneaker\n",
      "other_subjects: ['colorful_sneaker']\n"
     ]
    },
    {
     "name": "stderr",
     "output_type": "stream",
     "text": [
      "Using cache found in /Users/ignazioperez/.cache/torch/hub/facebookresearch_dino_main\n"
     ]
    },
    {
     "name": "stdout",
     "output_type": "stream",
     "text": [
      "ppl shiny_sneaker 0.7312\n",
      "subject: wolf_plushie, class: stuffed animal\n",
      "other_subjects: ['bear_plushie', 'grey_sloth_plushie']\n"
     ]
    },
    {
     "name": "stderr",
     "output_type": "stream",
     "text": [
      "Using cache found in /Users/ignazioperez/.cache/torch/hub/facebookresearch_dino_main\n"
     ]
    },
    {
     "name": "stdout",
     "output_type": "stream",
     "text": [
      "ppl wolf_plushie 0.4480\n"
     ]
    }
   ],
   "source": [
    "results = []\n",
    "for cond in CONDITIONS:\n",
    "    data_root = os.path.join(REAL_ROOT, \"subjects\")\n",
    "    res_root = os.path.join(GEN_ROOT, cond)\n",
    "    for _, row in pres_subjects_df.iterrows():\n",
    "        subject = row['subject_name']\n",
    "        cls     = row['class']\n",
    "        other_subjects = pres_subjects_df.loc[\n",
    "            (pres_subjects_df['class'] == cls) &\n",
    "            (pres_subjects_df['subject_name'] != subject),\n",
    "            'subject_name'\n",
    "        ].tolist()\n",
    "\n",
    "        for x in other_subjects:\n",
    "            real_dir = os.path.join(data_root, subject)\n",
    "            gen_dir  = os.path.join(res_root, x)\n",
    "            if not os.path.isdir(real_dir) or not os.path.isdir(gen_dir):\n",
    "                continue \n",
    "\n",
    "            preservation   = pres.collect_pres(real_dir, gen_dir)\n",
    "\n",
    "            results.append({\n",
    "                'condition': cond,\n",
    "                'subject':   subject,\n",
    "                'PRES':      preservation,\n",
    "            })\n",
    "\n",
    "        print(f'{cond} {subject} {preservation:.4f}')\n",
    "\n",
    "pres_results_df = pd.DataFrame(results)\n",
    "pres_results_df.to_csv(\"../results/pres_results.csv\", index=False)"
   ]
  },
  {
   "cell_type": "code",
   "execution_count": 5,
   "id": "19b53a5a",
   "metadata": {},
   "outputs": [
    {
     "data": {
      "text/html": [
       "<div>\n",
       "<style scoped>\n",
       "    .dataframe tbody tr th:only-of-type {\n",
       "        vertical-align: middle;\n",
       "    }\n",
       "\n",
       "    .dataframe tbody tr th {\n",
       "        vertical-align: top;\n",
       "    }\n",
       "\n",
       "    .dataframe thead th {\n",
       "        text-align: right;\n",
       "    }\n",
       "</style>\n",
       "<table border=\"1\" class=\"dataframe\">\n",
       "  <thead>\n",
       "    <tr style=\"text-align: right;\">\n",
       "      <th></th>\n",
       "      <th>condition</th>\n",
       "      <th>mean_PRES</th>\n",
       "    </tr>\n",
       "  </thead>\n",
       "  <tbody>\n",
       "    <tr>\n",
       "      <th>0</th>\n",
       "      <td>no_ppl</td>\n",
       "      <td>0.31636</td>\n",
       "    </tr>\n",
       "    <tr>\n",
       "      <th>1</th>\n",
       "      <td>ppl</td>\n",
       "      <td>0.28810</td>\n",
       "    </tr>\n",
       "  </tbody>\n",
       "</table>\n",
       "</div>"
      ],
      "text/plain": [
       "  condition  mean_PRES\n",
       "0    no_ppl    0.31636\n",
       "1       ppl    0.28810"
      ]
     },
     "execution_count": 5,
     "metadata": {},
     "output_type": "execute_result"
    }
   ],
   "source": [
    "\n",
    "mean_pres = (\n",
    "    pres_results_df\n",
    "    .groupby('condition')['PRES']\n",
    "    .mean()\n",
    "    .reset_index(name='mean_PRES')\n",
    ")\n",
    "mean_pres"
   ]
  },
  {
   "cell_type": "markdown",
   "id": "ec0505ce",
   "metadata": {},
   "source": [
    "#### Collecting CLIP-I, CLIP-T (between real and generated images)"
   ]
  },
  {
   "cell_type": "code",
   "execution_count": 4,
   "id": "3101556e",
   "metadata": {},
   "outputs": [
    {
     "name": "stderr",
     "output_type": "stream",
     "text": [
      "Using cache found in /Users/ignazioperez/.cache/torch/hub/facebookresearch_dino_main\n"
     ]
    },
    {
     "data": {
      "application/vnd.jupyter.widget-view+json": {
       "model_id": "f406ae2a177b4d6fb3edc1805a36489a",
       "version_major": 2,
       "version_minor": 0
      },
      "text/plain": [
       "config.json:   0%|          | 0.00/4.19k [00:00<?, ?B/s]"
      ]
     },
     "metadata": {},
     "output_type": "display_data"
    },
    {
     "data": {
      "application/vnd.jupyter.widget-view+json": {
       "model_id": "01da17aca97345efa9f0dbbee5d194eb",
       "version_major": 2,
       "version_minor": 0
      },
      "text/plain": [
       "pytorch_model.bin:   0%|          | 0.00/605M [00:00<?, ?B/s]"
      ]
     },
     "metadata": {},
     "output_type": "display_data"
    },
    {
     "data": {
      "application/vnd.jupyter.widget-view+json": {
       "model_id": "4f52227585fc461fa5893ea07c1201ba",
       "version_major": 2,
       "version_minor": 0
      },
      "text/plain": [
       "preprocessor_config.json:   0%|          | 0.00/316 [00:00<?, ?B/s]"
      ]
     },
     "metadata": {},
     "output_type": "display_data"
    },
    {
     "data": {
      "application/vnd.jupyter.widget-view+json": {
       "model_id": "37870cb528f74b3187fd39e681506c90",
       "version_major": 2,
       "version_minor": 0
      },
      "text/plain": [
       "tokenizer_config.json:   0%|          | 0.00/592 [00:00<?, ?B/s]"
      ]
     },
     "metadata": {},
     "output_type": "display_data"
    },
    {
     "data": {
      "application/vnd.jupyter.widget-view+json": {
       "model_id": "0d8340f62fd84c5f8708494fdd8d4ac0",
       "version_major": 2,
       "version_minor": 0
      },
      "text/plain": [
       "vocab.json:   0%|          | 0.00/862k [00:00<?, ?B/s]"
      ]
     },
     "metadata": {},
     "output_type": "display_data"
    },
    {
     "data": {
      "application/vnd.jupyter.widget-view+json": {
       "model_id": "621544db45024d9b87766cb25468f220",
       "version_major": 2,
       "version_minor": 0
      },
      "text/plain": [
       "merges.txt:   0%|          | 0.00/525k [00:00<?, ?B/s]"
      ]
     },
     "metadata": {},
     "output_type": "display_data"
    },
    {
     "data": {
      "application/vnd.jupyter.widget-view+json": {
       "model_id": "49ef3e1077ac4d34abe759d7e607a82f",
       "version_major": 2,
       "version_minor": 0
      },
      "text/plain": [
       "tokenizer.json:   0%|          | 0.00/2.22M [00:00<?, ?B/s]"
      ]
     },
     "metadata": {},
     "output_type": "display_data"
    },
    {
     "data": {
      "application/vnd.jupyter.widget-view+json": {
       "model_id": "d0f390bc61194122a94c2d0e9fffe567",
       "version_major": 2,
       "version_minor": 0
      },
      "text/plain": [
       "special_tokens_map.json:   0%|          | 0.00/389 [00:00<?, ?B/s]"
      ]
     },
     "metadata": {},
     "output_type": "display_data"
    },
    {
     "ename": "JSONDecodeError",
     "evalue": "Expecting value: line 1 column 1 (char 0)",
     "output_type": "error",
     "traceback": [
      "\u001b[0;31m---------------------------------------------------------------------------\u001b[0m",
      "\u001b[0;31mJSONDecodeError\u001b[0m                           Traceback (most recent call last)",
      "Cell \u001b[0;32mIn[4], line 15\u001b[0m\n\u001b[1;32m     13\u001b[0m preservation   \u001b[38;5;241m=\u001b[39m pres\u001b[38;5;241m.\u001b[39mcollect_pres(real_dir, gen_dir)\n\u001b[1;32m     14\u001b[0m prompt_dir \u001b[38;5;241m=\u001b[39m \u001b[38;5;124m\"\u001b[39m\u001b[38;5;124m../data/prompts.csv\u001b[39m\u001b[38;5;124m\"\u001b[39m\n\u001b[0;32m---> 15\u001b[0m clip_i, clip_t \u001b[38;5;241m=\u001b[39m clip_embeddings\u001b[38;5;241m.\u001b[39mcollect_clip_metrics(real_dir, gen_dir, prompt_dir)\n\u001b[1;32m     17\u001b[0m results\u001b[38;5;241m.\u001b[39mappend({\n\u001b[1;32m     18\u001b[0m     \u001b[38;5;124m'\u001b[39m\u001b[38;5;124mcondition\u001b[39m\u001b[38;5;124m'\u001b[39m: cond,\n\u001b[1;32m     19\u001b[0m     \u001b[38;5;124m'\u001b[39m\u001b[38;5;124msubject\u001b[39m\u001b[38;5;124m'\u001b[39m:   subject,\n\u001b[0;32m   (...)\u001b[0m\n\u001b[1;32m     22\u001b[0m     \u001b[38;5;124m'\u001b[39m\u001b[38;5;124mCLIP-T\u001b[39m\u001b[38;5;124m'\u001b[39m:    clip_t\n\u001b[1;32m     23\u001b[0m })\n\u001b[1;32m     25\u001b[0m \u001b[38;5;28mprint\u001b[39m(\u001b[38;5;124mf\u001b[39m\u001b[38;5;124m'\u001b[39m\u001b[38;5;132;01m{\u001b[39;00mcond\u001b[38;5;132;01m}\u001b[39;00m\u001b[38;5;124m \u001b[39m\u001b[38;5;132;01m{\u001b[39;00msubject\u001b[38;5;132;01m}\u001b[39;00m\u001b[38;5;124m \u001b[39m\u001b[38;5;132;01m{\u001b[39;00mpreservation\u001b[38;5;132;01m:\u001b[39;00m\u001b[38;5;124m.4f\u001b[39m\u001b[38;5;132;01m}\u001b[39;00m\u001b[38;5;124m'\u001b[39m)\n",
      "File \u001b[0;32m~/Documents/CS4782/fp/gr/dreambooth_diffusion/code/metrics/clip_embeddings.py:62\u001b[0m, in \u001b[0;36mcollect_clip_metrics\u001b[0;34m(real_dir, gen_dir, prompts_json)\u001b[0m\n\u001b[1;32m     59\u001b[0m     gen_emb\u001b[38;5;241m.\u001b[39mappend(get_clip_img_embedding(clip, proc, file_path, device))\n\u001b[1;32m     61\u001b[0m \u001b[38;5;28;01mwith\u001b[39;00m \u001b[38;5;28mopen\u001b[39m(prompts_json) \u001b[38;5;28;01mas\u001b[39;00m f:\n\u001b[0;32m---> 62\u001b[0m     prm_json \u001b[38;5;241m=\u001b[39m json\u001b[38;5;241m.\u001b[39mload(f)\n\u001b[1;32m     64\u001b[0m \u001b[38;5;28;01mif\u001b[39;00m \u001b[38;5;28misinstance\u001b[39m(prm_json, \u001b[38;5;28mlist\u001b[39m):\n\u001b[1;32m     65\u001b[0m     prompts \u001b[38;5;241m=\u001b[39m prm_json\n",
      "File \u001b[0;32m~/opt/anaconda3/lib/python3.12/json/__init__.py:293\u001b[0m, in \u001b[0;36mload\u001b[0;34m(fp, cls, object_hook, parse_float, parse_int, parse_constant, object_pairs_hook, **kw)\u001b[0m\n\u001b[1;32m    274\u001b[0m \u001b[38;5;28;01mdef\u001b[39;00m \u001b[38;5;21mload\u001b[39m(fp, \u001b[38;5;241m*\u001b[39m, \u001b[38;5;28mcls\u001b[39m\u001b[38;5;241m=\u001b[39m\u001b[38;5;28;01mNone\u001b[39;00m, object_hook\u001b[38;5;241m=\u001b[39m\u001b[38;5;28;01mNone\u001b[39;00m, parse_float\u001b[38;5;241m=\u001b[39m\u001b[38;5;28;01mNone\u001b[39;00m,\n\u001b[1;32m    275\u001b[0m         parse_int\u001b[38;5;241m=\u001b[39m\u001b[38;5;28;01mNone\u001b[39;00m, parse_constant\u001b[38;5;241m=\u001b[39m\u001b[38;5;28;01mNone\u001b[39;00m, object_pairs_hook\u001b[38;5;241m=\u001b[39m\u001b[38;5;28;01mNone\u001b[39;00m, \u001b[38;5;241m*\u001b[39m\u001b[38;5;241m*\u001b[39mkw):\n\u001b[1;32m    276\u001b[0m \u001b[38;5;250m    \u001b[39m\u001b[38;5;124;03m\"\"\"Deserialize ``fp`` (a ``.read()``-supporting file-like object containing\u001b[39;00m\n\u001b[1;32m    277\u001b[0m \u001b[38;5;124;03m    a JSON document) to a Python object.\u001b[39;00m\n\u001b[1;32m    278\u001b[0m \n\u001b[0;32m   (...)\u001b[0m\n\u001b[1;32m    291\u001b[0m \u001b[38;5;124;03m    kwarg; otherwise ``JSONDecoder`` is used.\u001b[39;00m\n\u001b[1;32m    292\u001b[0m \u001b[38;5;124;03m    \"\"\"\u001b[39;00m\n\u001b[0;32m--> 293\u001b[0m     \u001b[38;5;28;01mreturn\u001b[39;00m loads(fp\u001b[38;5;241m.\u001b[39mread(),\n\u001b[1;32m    294\u001b[0m         \u001b[38;5;28mcls\u001b[39m\u001b[38;5;241m=\u001b[39m\u001b[38;5;28mcls\u001b[39m, object_hook\u001b[38;5;241m=\u001b[39mobject_hook,\n\u001b[1;32m    295\u001b[0m         parse_float\u001b[38;5;241m=\u001b[39mparse_float, parse_int\u001b[38;5;241m=\u001b[39mparse_int,\n\u001b[1;32m    296\u001b[0m         parse_constant\u001b[38;5;241m=\u001b[39mparse_constant, object_pairs_hook\u001b[38;5;241m=\u001b[39mobject_pairs_hook, \u001b[38;5;241m*\u001b[39m\u001b[38;5;241m*\u001b[39mkw)\n",
      "File \u001b[0;32m~/opt/anaconda3/lib/python3.12/json/__init__.py:346\u001b[0m, in \u001b[0;36mloads\u001b[0;34m(s, cls, object_hook, parse_float, parse_int, parse_constant, object_pairs_hook, **kw)\u001b[0m\n\u001b[1;32m    341\u001b[0m     s \u001b[38;5;241m=\u001b[39m s\u001b[38;5;241m.\u001b[39mdecode(detect_encoding(s), \u001b[38;5;124m'\u001b[39m\u001b[38;5;124msurrogatepass\u001b[39m\u001b[38;5;124m'\u001b[39m)\n\u001b[1;32m    343\u001b[0m \u001b[38;5;28;01mif\u001b[39;00m (\u001b[38;5;28mcls\u001b[39m \u001b[38;5;129;01mis\u001b[39;00m \u001b[38;5;28;01mNone\u001b[39;00m \u001b[38;5;129;01mand\u001b[39;00m object_hook \u001b[38;5;129;01mis\u001b[39;00m \u001b[38;5;28;01mNone\u001b[39;00m \u001b[38;5;129;01mand\u001b[39;00m\n\u001b[1;32m    344\u001b[0m         parse_int \u001b[38;5;129;01mis\u001b[39;00m \u001b[38;5;28;01mNone\u001b[39;00m \u001b[38;5;129;01mand\u001b[39;00m parse_float \u001b[38;5;129;01mis\u001b[39;00m \u001b[38;5;28;01mNone\u001b[39;00m \u001b[38;5;129;01mand\u001b[39;00m\n\u001b[1;32m    345\u001b[0m         parse_constant \u001b[38;5;129;01mis\u001b[39;00m \u001b[38;5;28;01mNone\u001b[39;00m \u001b[38;5;129;01mand\u001b[39;00m object_pairs_hook \u001b[38;5;129;01mis\u001b[39;00m \u001b[38;5;28;01mNone\u001b[39;00m \u001b[38;5;129;01mand\u001b[39;00m \u001b[38;5;129;01mnot\u001b[39;00m kw):\n\u001b[0;32m--> 346\u001b[0m     \u001b[38;5;28;01mreturn\u001b[39;00m _default_decoder\u001b[38;5;241m.\u001b[39mdecode(s)\n\u001b[1;32m    347\u001b[0m \u001b[38;5;28;01mif\u001b[39;00m \u001b[38;5;28mcls\u001b[39m \u001b[38;5;129;01mis\u001b[39;00m \u001b[38;5;28;01mNone\u001b[39;00m:\n\u001b[1;32m    348\u001b[0m     \u001b[38;5;28mcls\u001b[39m \u001b[38;5;241m=\u001b[39m JSONDecoder\n",
      "File \u001b[0;32m~/opt/anaconda3/lib/python3.12/json/decoder.py:337\u001b[0m, in \u001b[0;36mJSONDecoder.decode\u001b[0;34m(self, s, _w)\u001b[0m\n\u001b[1;32m    332\u001b[0m \u001b[38;5;28;01mdef\u001b[39;00m \u001b[38;5;21mdecode\u001b[39m(\u001b[38;5;28mself\u001b[39m, s, _w\u001b[38;5;241m=\u001b[39mWHITESPACE\u001b[38;5;241m.\u001b[39mmatch):\n\u001b[1;32m    333\u001b[0m \u001b[38;5;250m    \u001b[39m\u001b[38;5;124;03m\"\"\"Return the Python representation of ``s`` (a ``str`` instance\u001b[39;00m\n\u001b[1;32m    334\u001b[0m \u001b[38;5;124;03m    containing a JSON document).\u001b[39;00m\n\u001b[1;32m    335\u001b[0m \n\u001b[1;32m    336\u001b[0m \u001b[38;5;124;03m    \"\"\"\u001b[39;00m\n\u001b[0;32m--> 337\u001b[0m     obj, end \u001b[38;5;241m=\u001b[39m \u001b[38;5;28mself\u001b[39m\u001b[38;5;241m.\u001b[39mraw_decode(s, idx\u001b[38;5;241m=\u001b[39m_w(s, \u001b[38;5;241m0\u001b[39m)\u001b[38;5;241m.\u001b[39mend())\n\u001b[1;32m    338\u001b[0m     end \u001b[38;5;241m=\u001b[39m _w(s, end)\u001b[38;5;241m.\u001b[39mend()\n\u001b[1;32m    339\u001b[0m     \u001b[38;5;28;01mif\u001b[39;00m end \u001b[38;5;241m!=\u001b[39m \u001b[38;5;28mlen\u001b[39m(s):\n",
      "File \u001b[0;32m~/opt/anaconda3/lib/python3.12/json/decoder.py:355\u001b[0m, in \u001b[0;36mJSONDecoder.raw_decode\u001b[0;34m(self, s, idx)\u001b[0m\n\u001b[1;32m    353\u001b[0m     obj, end \u001b[38;5;241m=\u001b[39m \u001b[38;5;28mself\u001b[39m\u001b[38;5;241m.\u001b[39mscan_once(s, idx)\n\u001b[1;32m    354\u001b[0m \u001b[38;5;28;01mexcept\u001b[39;00m \u001b[38;5;167;01mStopIteration\u001b[39;00m \u001b[38;5;28;01mas\u001b[39;00m err:\n\u001b[0;32m--> 355\u001b[0m     \u001b[38;5;28;01mraise\u001b[39;00m JSONDecodeError(\u001b[38;5;124m\"\u001b[39m\u001b[38;5;124mExpecting value\u001b[39m\u001b[38;5;124m\"\u001b[39m, s, err\u001b[38;5;241m.\u001b[39mvalue) \u001b[38;5;28;01mfrom\u001b[39;00m \u001b[38;5;28;01mNone\u001b[39;00m\n\u001b[1;32m    356\u001b[0m \u001b[38;5;28;01mreturn\u001b[39;00m obj, end\n",
      "\u001b[0;31mJSONDecodeError\u001b[0m: Expecting value: line 1 column 1 (char 0)"
     ]
    }
   ],
   "source": [
    "results = []\n",
    "for cond in CONDITIONS:\n",
    "    data_root = os.path.join(REAL_ROOT, cond)\n",
    "    res_root = os.path.join(GEN_ROOT, cond)\n",
    "    for _, row in subjects_df.iterrows():\n",
    "        subject = row['subject_name']\n",
    "\n",
    "        real_dir = os.path.join(data_root, subject)\n",
    "        gen_dir  = os.path.join(res_root, subject)\n",
    "        if not os.path.isdir(real_dir) or not os.path.isdir(gen_dir):\n",
    "            continue \n",
    "\n",
    "        preservation   = pres.collect_pres(real_dir, gen_dir)\n",
    "        prompt_dir = \"../data/prompts.csv\"\n",
    "        clip_i, clip_t = clip_embeddings.collect_clip_metrics(real_dir, gen_dir, prompt_dir)\n",
    "        print(f\"clip_i: {clip_i}, clip_t: {clip_t}\")\n",
    "\n",
    "        results.append({\n",
    "            'condition': cond,\n",
    "            'subject':   subject,\n",
    "            'PRES':      preservation,\n",
    "            'CLIP-I':    clip_i,\n",
    "            'CLIP-T':    clip_t\n",
    "        })\n",
    "\n",
    "        print(f'{cond} {subject} {preservation:.4f}')\n",
    "\n",
    "results_df = pd.DataFrame(results)"
   ]
  },
  {
   "cell_type": "code",
   "execution_count": null,
   "id": "40ac4360",
   "metadata": {},
   "outputs": [],
   "source": [
    "results_df.to_csv(\"metric_results.csv\", index=False)"
   ]
  },
  {
   "cell_type": "code",
   "execution_count": null,
   "id": "5baaf5bd",
   "metadata": {},
   "outputs": [],
   "source": [
    "merged = (\n",
    "    results_df\n",
    "    .merge(subjects_df, left_on='subject', right_on='subject_name')\n",
    "    .drop(columns=['subject_name']) \n",
    ")\n",
    "\n",
    "pivot = (\n",
    "    merged\n",
    "    .pivot_table(\n",
    "       index='class',\n",
    "       columns='condition',\n",
    "       values=['PRES','DIV','CLIP-I','CLIP-T'],\n",
    "       aggfunc='mean'\n",
    "    )\n",
    ")\n",
    "print(pivot)\n",
    "\n",
    "pivot.to_csv(\"average_metric_results.csv\", index=False)"
   ]
  },
  {
   "cell_type": "markdown",
   "id": "1a90c4c6",
   "metadata": {},
   "source": [
    "#### Collecting DIV (between generated images of the same class)"
   ]
  },
  {
   "cell_type": "code",
   "execution_count": null,
   "id": "9027ed1a",
   "metadata": {},
   "outputs": [],
   "source": [
    "def split_prompts(gen_dir):\n",
    "    files = [f for f in os.listdir(gen_dir) if f.endswith('.png')]\n",
    "    groups = defaultdict(list)\n",
    "    for fn in files:\n",
    "        parts = fn.split('_')\n",
    "        p_idx = parts[0]\n",
    "        groups[p_idx].append(os.path.join(gen_dir, fn))\n",
    "\n",
    "    return groups"
   ]
  },
  {
   "cell_type": "code",
   "execution_count": null,
   "id": "c18b2be3",
   "metadata": {},
   "outputs": [],
   "source": [
    "def all_divs(groups):\n",
    "  prompt_divs = []\n",
    "  for p_idx, paths in groups.items():\n",
    "      if len(paths) < 2:\n",
    "          print(f\" only {len(paths)} sample(s) for prompt {p_idx}, skipping\")\n",
    "          continue            \n",
    "      div_value = div.collect_div(paths)\n",
    "      prompt_divs.append(div_value)\n",
    "      #print(f\"{cond}/{subject} prompt {p_idx}: DIV = {div_value:.4f}\")\n",
    "\n",
    "  return prompt_divs\n"
   ]
  },
  {
   "cell_type": "code",
   "execution_count": null,
   "id": "a3de82f1",
   "metadata": {},
   "outputs": [],
   "source": [
    "div_values = []\n",
    "for cond in CONDITIONS:\n",
    "    for _, row in subjects_df.iterrows():\n",
    "        subject = row['subject_name']\n",
    "        gen_dir = os.path.join(GEN_ROOT, cond, subject)\n",
    "        if not os.path.isdir(gen_dir):\n",
    "            print(f\"Skipping {cond}/{subject}: directory not found\")\n",
    "            continue\n",
    "\n",
    "        groups = split_prompts(gen_dir)    \n",
    "        prompt_divs = all_divs(groups)\n",
    "\n",
    "        if not prompt_divs:\n",
    "            print(f\"  No valid prompts for {cond}/{subject}, skipping\")\n",
    "            continue\n",
    "\n",
    "        subject_div = float(np.mean(prompt_divs))\n",
    "        div_values.append({\n",
    "            'condition': cond,\n",
    "            'subject':   subject,\n",
    "            'DIV':       subject_div\n",
    "        })\n",
    "\n",
    "\n",
    "div_df = pd.DataFrame(div_values)\n",
    "div_df.to_csv(\"../results/div_results.csv\", index=False)\n",
    "\n",
    "div_df"
   ]
  },
  {
   "cell_type": "code",
   "execution_count": null,
   "id": "c6c72683",
   "metadata": {},
   "outputs": [],
   "source": [
    "mean_div = (\n",
    "    div_df\n",
    "    .groupby('condition')['DIV']\n",
    "    .mean()\n",
    "    .reset_index(name='mean_DIV')\n",
    ")\n",
    "mean_div"
   ]
  }
 ],
 "metadata": {
  "kernelspec": {
   "display_name": "base",
   "language": "python",
   "name": "python3"
  },
  "language_info": {
   "codemirror_mode": {
    "name": "ipython",
    "version": 3
   },
   "file_extension": ".py",
   "mimetype": "text/x-python",
   "name": "python",
   "nbconvert_exporter": "python",
   "pygments_lexer": "ipython3",
   "version": "3.12.7"
  }
 },
 "nbformat": 4,
 "nbformat_minor": 5
}
